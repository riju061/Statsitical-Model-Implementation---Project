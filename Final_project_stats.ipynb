{
 "cells": [
  {
   "cell_type": "markdown",
   "metadata": {},
   "source": [
    "# Classification Modelling And Regression Analysis Project\n",
    "\n",
    "### This project is aimed at data analysis and prediction modelling of a strain test metallurgical experiment on various grades of steel with different compositions for each avrying grade then performing regression analysis and predicting the regression model fitting the TCL strain test value \n",
    "\n",
    "### The second part of the project emphasises on the classification modelling of the statistical data suurvey done on the different species of penguinsin the different cluster of islands in the antarctic "
   ]
  },
  {
   "cell_type": "markdown",
   "metadata": {},
   "source": [
    "## loading and Visualizing the Dataset"
   ]
  },
  {
   "cell_type": "markdown",
   "metadata": {},
   "source": [
    "### Loading of the metallurgical strain test data and visualizing the different aspects of the compositional parameters of the grades of steel and mainly focussing on the percentage compositions of Carbon,Silicon,Manganese,Phosphorus and Sulphur and then regulating the strain perdicting the TCL variable"
   ]
  },
  {
   "cell_type": "code",
   "execution_count": 355,
   "metadata": {},
   "outputs": [],
   "source": [
    "\n",
    "import numpy as np\n",
    "import pandas as pd\n",
    "import seaborn as sns\n",
    "import matplotlib.pyplot as plt\n",
    "\n",
    "from sklearn.model_selection import train_test_split  #split the test set \n",
    "from sklearn.metrics import mean_absolute_error\n",
    "from sklearn.metrics import mean_squared_error\n",
    "from sklearn.model_selection import cross_val_score\n",
    "\n",
    "from sklearn.metrics import r2_score\n",
    "\n",
    "from sklearn.linear_model import LinearRegression\n",
    "from sklearn.preprocessing import PolynomialFeatures\n",
    "\n",
    "from sklearn.linear_model import RidgeCV\n",
    "from sklearn.linear_model import LassoCV\n",
    "from sklearn.linear_model import ElasticNetCV\n",
    "from sklearn.ensemble import RandomForestRegressor\n",
    "from sklearn.model_selection import GridSearchCV\n",
    "from sklearn.preprocessing import PolynomialFeatures\n",
    "\n",
    "from sklearn.naive_bayes import MultinomialNB\n",
    "from sklearn.metrics import classification_report\n",
    "from sklearn.metrics import confusion_matrix\n",
    "\n",
    "import statsmodels.api as sm\n",
    "\n",
    "import pingouin as pg"
   ]
  },
  {
   "cell_type": "code",
   "execution_count": 356,
   "metadata": {},
   "outputs": [],
   "source": [
    "df_experiment =pd.read_csv(\"Book1.csv\")"
   ]
  },
  {
   "cell_type": "code",
   "execution_count": 357,
   "metadata": {},
   "outputs": [
    {
     "data": {
      "text/html": [
       "<div>\n",
       "<style scoped>\n",
       "    .dataframe tbody tr th:only-of-type {\n",
       "        vertical-align: middle;\n",
       "    }\n",
       "\n",
       "    .dataframe tbody tr th {\n",
       "        vertical-align: top;\n",
       "    }\n",
       "\n",
       "    .dataframe thead th {\n",
       "        text-align: right;\n",
       "    }\n",
       "</style>\n",
       "<table border=\"1\" class=\"dataframe\">\n",
       "  <thead>\n",
       "    <tr style=\"text-align: right;\">\n",
       "      <th></th>\n",
       "      <th>No.</th>\n",
       "      <th>C</th>\n",
       "      <th>Si</th>\n",
       "      <th>Mn</th>\n",
       "      <th>P</th>\n",
       "      <th>S</th>\n",
       "      <th>Cr</th>\n",
       "      <th>Ni</th>\n",
       "      <th>Mo</th>\n",
       "      <th>N</th>\n",
       "      <th>...</th>\n",
       "      <th>Al</th>\n",
       "      <th>Ti</th>\n",
       "      <th>V</th>\n",
       "      <th>B</th>\n",
       "      <th>Th</th>\n",
       "      <th>I</th>\n",
       "      <th>U</th>\n",
       "      <th>Ve</th>\n",
       "      <th>Strain</th>\n",
       "      <th>TCL</th>\n",
       "    </tr>\n",
       "  </thead>\n",
       "  <tbody>\n",
       "    <tr>\n",
       "      <th>0</th>\n",
       "      <td>1</td>\n",
       "      <td>0.010</td>\n",
       "      <td>0.48</td>\n",
       "      <td>1.61</td>\n",
       "      <td>0.024</td>\n",
       "      <td>0.019</td>\n",
       "      <td>17.33</td>\n",
       "      <td>10.62</td>\n",
       "      <td>2.09</td>\n",
       "      <td>0.060</td>\n",
       "      <td>...</td>\n",
       "      <td>0.02</td>\n",
       "      <td>0.0</td>\n",
       "      <td>0.0</td>\n",
       "      <td>0.0</td>\n",
       "      <td>3.18</td>\n",
       "      <td>100</td>\n",
       "      <td>12.0</td>\n",
       "      <td>4.23</td>\n",
       "      <td>4.0</td>\n",
       "      <td>1.5</td>\n",
       "    </tr>\n",
       "    <tr>\n",
       "      <th>1</th>\n",
       "      <td>2</td>\n",
       "      <td>0.011</td>\n",
       "      <td>0.58</td>\n",
       "      <td>1.06</td>\n",
       "      <td>0.032</td>\n",
       "      <td>0.013</td>\n",
       "      <td>16.95</td>\n",
       "      <td>10.50</td>\n",
       "      <td>2.15</td>\n",
       "      <td>0.078</td>\n",
       "      <td>...</td>\n",
       "      <td>0.02</td>\n",
       "      <td>0.0</td>\n",
       "      <td>0.0</td>\n",
       "      <td>0.0</td>\n",
       "      <td>3.18</td>\n",
       "      <td>100</td>\n",
       "      <td>12.0</td>\n",
       "      <td>4.23</td>\n",
       "      <td>4.0</td>\n",
       "      <td>1.1</td>\n",
       "    </tr>\n",
       "    <tr>\n",
       "      <th>2</th>\n",
       "      <td>3</td>\n",
       "      <td>0.010</td>\n",
       "      <td>0.46</td>\n",
       "      <td>1.09</td>\n",
       "      <td>0.021</td>\n",
       "      <td>0.001</td>\n",
       "      <td>17.40</td>\n",
       "      <td>11.50</td>\n",
       "      <td>2.88</td>\n",
       "      <td>0.105</td>\n",
       "      <td>...</td>\n",
       "      <td>0.02</td>\n",
       "      <td>0.0</td>\n",
       "      <td>0.0</td>\n",
       "      <td>0.0</td>\n",
       "      <td>3.18</td>\n",
       "      <td>100</td>\n",
       "      <td>12.0</td>\n",
       "      <td>4.23</td>\n",
       "      <td>4.0</td>\n",
       "      <td>0.9</td>\n",
       "    </tr>\n",
       "    <tr>\n",
       "      <th>3</th>\n",
       "      <td>4</td>\n",
       "      <td>0.010</td>\n",
       "      <td>0.51</td>\n",
       "      <td>1.60</td>\n",
       "      <td>0.021</td>\n",
       "      <td>0.001</td>\n",
       "      <td>17.55</td>\n",
       "      <td>12.95</td>\n",
       "      <td>2.76</td>\n",
       "      <td>0.113</td>\n",
       "      <td>...</td>\n",
       "      <td>0.02</td>\n",
       "      <td>0.0</td>\n",
       "      <td>0.0</td>\n",
       "      <td>0.0</td>\n",
       "      <td>3.18</td>\n",
       "      <td>100</td>\n",
       "      <td>12.0</td>\n",
       "      <td>4.23</td>\n",
       "      <td>4.0</td>\n",
       "      <td>3.7</td>\n",
       "    </tr>\n",
       "    <tr>\n",
       "      <th>4</th>\n",
       "      <td>5</td>\n",
       "      <td>0.012</td>\n",
       "      <td>0.46</td>\n",
       "      <td>1.54</td>\n",
       "      <td>0.027</td>\n",
       "      <td>0.023</td>\n",
       "      <td>16.28</td>\n",
       "      <td>10.15</td>\n",
       "      <td>2.06</td>\n",
       "      <td>0.098</td>\n",
       "      <td>...</td>\n",
       "      <td>0.02</td>\n",
       "      <td>0.0</td>\n",
       "      <td>0.0</td>\n",
       "      <td>0.0</td>\n",
       "      <td>3.18</td>\n",
       "      <td>100</td>\n",
       "      <td>12.0</td>\n",
       "      <td>4.23</td>\n",
       "      <td>4.0</td>\n",
       "      <td>1.5</td>\n",
       "    </tr>\n",
       "  </tbody>\n",
       "</table>\n",
       "<p>5 rows × 23 columns</p>\n",
       "</div>"
      ],
      "text/plain": [
       "   No.      C    Si    Mn      P      S     Cr     Ni    Mo      N  ...    Al  \\\n",
       "0    1  0.010  0.48  1.61  0.024  0.019  17.33  10.62  2.09  0.060  ...  0.02   \n",
       "1    2  0.011  0.58  1.06  0.032  0.013  16.95  10.50  2.15  0.078  ...  0.02   \n",
       "2    3  0.010  0.46  1.09  0.021  0.001  17.40  11.50  2.88  0.105  ...  0.02   \n",
       "3    4  0.010  0.51  1.60  0.021  0.001  17.55  12.95  2.76  0.113  ...  0.02   \n",
       "4    5  0.012  0.46  1.54  0.027  0.023  16.28  10.15  2.06  0.098  ...  0.02   \n",
       "\n",
       "    Ti    V    B    Th    I     U    Ve  Strain  TCL  \n",
       "0  0.0  0.0  0.0  3.18  100  12.0  4.23     4.0  1.5  \n",
       "1  0.0  0.0  0.0  3.18  100  12.0  4.23     4.0  1.1  \n",
       "2  0.0  0.0  0.0  3.18  100  12.0  4.23     4.0  0.9  \n",
       "3  0.0  0.0  0.0  3.18  100  12.0  4.23     4.0  3.7  \n",
       "4  0.0  0.0  0.0  3.18  100  12.0  4.23     4.0  1.5  \n",
       "\n",
       "[5 rows x 23 columns]"
      ]
     },
     "execution_count": 357,
     "metadata": {},
     "output_type": "execute_result"
    }
   ],
   "source": [
    "df_experiment.head(5)\n"
   ]
  },
  {
   "cell_type": "code",
   "execution_count": 358,
   "metadata": {},
   "outputs": [
    {
     "name": "stdout",
     "output_type": "stream",
     "text": [
      "<class 'pandas.core.frame.DataFrame'>\n",
      "RangeIndex: 487 entries, 0 to 486\n",
      "Data columns (total 23 columns):\n",
      " #   Column  Non-Null Count  Dtype  \n",
      "---  ------  --------------  -----  \n",
      " 0   No.     487 non-null    int64  \n",
      " 1   C       487 non-null    float64\n",
      " 2   Si      487 non-null    float64\n",
      " 3   Mn      487 non-null    float64\n",
      " 4   P       487 non-null    float64\n",
      " 5   S       487 non-null    float64\n",
      " 6   Cr      487 non-null    float64\n",
      " 7   Ni      487 non-null    float64\n",
      " 8   Mo      487 non-null    float64\n",
      " 9   N       487 non-null    float64\n",
      " 10  Nb      487 non-null    float64\n",
      " 11  Co      487 non-null    float64\n",
      " 12  Cu      487 non-null    float64\n",
      " 13  Al      487 non-null    float64\n",
      " 14  Ti      487 non-null    float64\n",
      " 15  V       487 non-null    float64\n",
      " 16  B       487 non-null    float64\n",
      " 17  Th      487 non-null    float64\n",
      " 18  I       487 non-null    int64  \n",
      " 19  U       487 non-null    float64\n",
      " 20  Ve      487 non-null    float64\n",
      " 21  Strain  487 non-null    float64\n",
      " 22  TCL     487 non-null    float64\n",
      "dtypes: float64(21), int64(2)\n",
      "memory usage: 87.6 KB\n"
     ]
    }
   ],
   "source": [
    "df_experiment.info()"
   ]
  },
  {
   "cell_type": "code",
   "execution_count": 359,
   "metadata": {},
   "outputs": [
    {
     "data": {
      "text/plain": [
       "No.       0\n",
       "C         0\n",
       "Si        0\n",
       "Mn        0\n",
       "P         0\n",
       "S         0\n",
       "Cr        0\n",
       "Ni        0\n",
       "Mo        0\n",
       "N         0\n",
       "Nb        0\n",
       "Co        0\n",
       "Cu        0\n",
       "Al        0\n",
       "Ti        0\n",
       "V         0\n",
       "B         0\n",
       "Th        0\n",
       "I         0\n",
       "U         0\n",
       "Ve        0\n",
       "Strain    0\n",
       "TCL       0\n",
       "dtype: int64"
      ]
     },
     "execution_count": 359,
     "metadata": {},
     "output_type": "execute_result"
    }
   ],
   "source": [
    "df_experiment.isnull().sum()  #looks for NaN"
   ]
  },
  {
   "cell_type": "markdown",
   "metadata": {},
   "source": [
    "### The check is made to ensure that there is no garbage null value in the dataset of the specimens"
   ]
  },
  {
   "cell_type": "code",
   "execution_count": 360,
   "metadata": {},
   "outputs": [
    {
     "data": {
      "text/html": [
       "<div>\n",
       "<style scoped>\n",
       "    .dataframe tbody tr th:only-of-type {\n",
       "        vertical-align: middle;\n",
       "    }\n",
       "\n",
       "    .dataframe tbody tr th {\n",
       "        vertical-align: top;\n",
       "    }\n",
       "\n",
       "    .dataframe thead th {\n",
       "        text-align: right;\n",
       "    }\n",
       "</style>\n",
       "<table border=\"1\" class=\"dataframe\">\n",
       "  <thead>\n",
       "    <tr style=\"text-align: right;\">\n",
       "      <th></th>\n",
       "      <th>No.</th>\n",
       "      <th>C</th>\n",
       "      <th>Si</th>\n",
       "      <th>Mn</th>\n",
       "      <th>P</th>\n",
       "      <th>S</th>\n",
       "      <th>Cr</th>\n",
       "      <th>Ni</th>\n",
       "      <th>Mo</th>\n",
       "      <th>N</th>\n",
       "      <th>...</th>\n",
       "      <th>Al</th>\n",
       "      <th>Ti</th>\n",
       "      <th>V</th>\n",
       "      <th>B</th>\n",
       "      <th>Th</th>\n",
       "      <th>I</th>\n",
       "      <th>U</th>\n",
       "      <th>Ve</th>\n",
       "      <th>Strain</th>\n",
       "      <th>TCL</th>\n",
       "    </tr>\n",
       "  </thead>\n",
       "  <tbody>\n",
       "    <tr>\n",
       "      <th>count</th>\n",
       "      <td>487.000000</td>\n",
       "      <td>487.000000</td>\n",
       "      <td>487.000000</td>\n",
       "      <td>487.000000</td>\n",
       "      <td>487.000000</td>\n",
       "      <td>487.000000</td>\n",
       "      <td>487.000000</td>\n",
       "      <td>487.000000</td>\n",
       "      <td>487.000000</td>\n",
       "      <td>487.000000</td>\n",
       "      <td>...</td>\n",
       "      <td>487.000000</td>\n",
       "      <td>487.000000</td>\n",
       "      <td>487.000000</td>\n",
       "      <td>487.000000</td>\n",
       "      <td>487.000000</td>\n",
       "      <td>487.000000</td>\n",
       "      <td>487.000000</td>\n",
       "      <td>487.000000</td>\n",
       "      <td>487.000000</td>\n",
       "      <td>487.000000</td>\n",
       "    </tr>\n",
       "    <tr>\n",
       "      <th>mean</th>\n",
       "      <td>244.000000</td>\n",
       "      <td>0.061951</td>\n",
       "      <td>0.627844</td>\n",
       "      <td>1.510893</td>\n",
       "      <td>0.019168</td>\n",
       "      <td>0.007691</td>\n",
       "      <td>19.112074</td>\n",
       "      <td>14.687187</td>\n",
       "      <td>0.924189</td>\n",
       "      <td>0.052364</td>\n",
       "      <td>...</td>\n",
       "      <td>0.074885</td>\n",
       "      <td>0.113185</td>\n",
       "      <td>0.048747</td>\n",
       "      <td>0.000515</td>\n",
       "      <td>5.840955</td>\n",
       "      <td>147.186858</td>\n",
       "      <td>13.712526</td>\n",
       "      <td>2.669425</td>\n",
       "      <td>2.031930</td>\n",
       "      <td>3.845955</td>\n",
       "    </tr>\n",
       "    <tr>\n",
       "      <th>std</th>\n",
       "      <td>140.729054</td>\n",
       "      <td>0.084147</td>\n",
       "      <td>0.662246</td>\n",
       "      <td>1.235992</td>\n",
       "      <td>0.009974</td>\n",
       "      <td>0.006582</td>\n",
       "      <td>3.276513</td>\n",
       "      <td>8.155322</td>\n",
       "      <td>1.115059</td>\n",
       "      <td>0.061406</td>\n",
       "      <td>...</td>\n",
       "      <td>0.162976</td>\n",
       "      <td>0.193230</td>\n",
       "      <td>0.172598</td>\n",
       "      <td>0.001669</td>\n",
       "      <td>3.453002</td>\n",
       "      <td>81.701882</td>\n",
       "      <td>2.258616</td>\n",
       "      <td>1.151274</td>\n",
       "      <td>1.406767</td>\n",
       "      <td>4.188706</td>\n",
       "    </tr>\n",
       "    <tr>\n",
       "      <th>min</th>\n",
       "      <td>1.000000</td>\n",
       "      <td>0.001000</td>\n",
       "      <td>0.010000</td>\n",
       "      <td>0.005000</td>\n",
       "      <td>0.001000</td>\n",
       "      <td>0.001000</td>\n",
       "      <td>12.630000</td>\n",
       "      <td>0.130000</td>\n",
       "      <td>0.000000</td>\n",
       "      <td>0.002000</td>\n",
       "      <td>...</td>\n",
       "      <td>0.002000</td>\n",
       "      <td>0.000000</td>\n",
       "      <td>0.000000</td>\n",
       "      <td>0.000000</td>\n",
       "      <td>3.000000</td>\n",
       "      <td>50.000000</td>\n",
       "      <td>8.000000</td>\n",
       "      <td>1.250000</td>\n",
       "      <td>0.000000</td>\n",
       "      <td>0.000000</td>\n",
       "    </tr>\n",
       "    <tr>\n",
       "      <th>25%</th>\n",
       "      <td>122.500000</td>\n",
       "      <td>0.020000</td>\n",
       "      <td>0.260000</td>\n",
       "      <td>0.930000</td>\n",
       "      <td>0.009500</td>\n",
       "      <td>0.003000</td>\n",
       "      <td>17.000000</td>\n",
       "      <td>9.650000</td>\n",
       "      <td>0.000000</td>\n",
       "      <td>0.019000</td>\n",
       "      <td>...</td>\n",
       "      <td>0.020000</td>\n",
       "      <td>0.000000</td>\n",
       "      <td>0.000000</td>\n",
       "      <td>0.000000</td>\n",
       "      <td>3.180000</td>\n",
       "      <td>100.000000</td>\n",
       "      <td>12.000000</td>\n",
       "      <td>1.670000</td>\n",
       "      <td>1.000000</td>\n",
       "      <td>0.410000</td>\n",
       "    </tr>\n",
       "    <tr>\n",
       "      <th>50%</th>\n",
       "      <td>244.000000</td>\n",
       "      <td>0.050000</td>\n",
       "      <td>0.500000</td>\n",
       "      <td>1.430000</td>\n",
       "      <td>0.021000</td>\n",
       "      <td>0.005000</td>\n",
       "      <td>18.320000</td>\n",
       "      <td>12.030000</td>\n",
       "      <td>0.190000</td>\n",
       "      <td>0.030000</td>\n",
       "      <td>...</td>\n",
       "      <td>0.020000</td>\n",
       "      <td>0.000000</td>\n",
       "      <td>0.000000</td>\n",
       "      <td>0.000000</td>\n",
       "      <td>5.000000</td>\n",
       "      <td>100.000000</td>\n",
       "      <td>13.000000</td>\n",
       "      <td>2.530000</td>\n",
       "      <td>2.000000</td>\n",
       "      <td>2.500000</td>\n",
       "    </tr>\n",
       "    <tr>\n",
       "      <th>75%</th>\n",
       "      <td>365.500000</td>\n",
       "      <td>0.061000</td>\n",
       "      <td>0.640000</td>\n",
       "      <td>1.700000</td>\n",
       "      <td>0.026000</td>\n",
       "      <td>0.012000</td>\n",
       "      <td>21.600000</td>\n",
       "      <td>16.870000</td>\n",
       "      <td>2.150000</td>\n",
       "      <td>0.060000</td>\n",
       "      <td>...</td>\n",
       "      <td>0.023000</td>\n",
       "      <td>0.250000</td>\n",
       "      <td>0.000000</td>\n",
       "      <td>0.000000</td>\n",
       "      <td>6.400000</td>\n",
       "      <td>180.000000</td>\n",
       "      <td>16.000000</td>\n",
       "      <td>4.000000</td>\n",
       "      <td>3.200000</td>\n",
       "      <td>6.005000</td>\n",
       "    </tr>\n",
       "    <tr>\n",
       "      <th>max</th>\n",
       "      <td>487.000000</td>\n",
       "      <td>0.470000</td>\n",
       "      <td>3.910000</td>\n",
       "      <td>8.360000</td>\n",
       "      <td>0.046000</td>\n",
       "      <td>0.032000</td>\n",
       "      <td>26.950000</td>\n",
       "      <td>33.950000</td>\n",
       "      <td>3.760000</td>\n",
       "      <td>0.368000</td>\n",
       "      <td>...</td>\n",
       "      <td>1.080000</td>\n",
       "      <td>1.060000</td>\n",
       "      <td>0.840000</td>\n",
       "      <td>0.011400</td>\n",
       "      <td>12.700000</td>\n",
       "      <td>330.000000</td>\n",
       "      <td>17.000000</td>\n",
       "      <td>4.450000</td>\n",
       "      <td>5.000000</td>\n",
       "      <td>19.300000</td>\n",
       "    </tr>\n",
       "  </tbody>\n",
       "</table>\n",
       "<p>8 rows × 23 columns</p>\n",
       "</div>"
      ],
      "text/plain": [
       "              No.           C          Si          Mn           P           S  \\\n",
       "count  487.000000  487.000000  487.000000  487.000000  487.000000  487.000000   \n",
       "mean   244.000000    0.061951    0.627844    1.510893    0.019168    0.007691   \n",
       "std    140.729054    0.084147    0.662246    1.235992    0.009974    0.006582   \n",
       "min      1.000000    0.001000    0.010000    0.005000    0.001000    0.001000   \n",
       "25%    122.500000    0.020000    0.260000    0.930000    0.009500    0.003000   \n",
       "50%    244.000000    0.050000    0.500000    1.430000    0.021000    0.005000   \n",
       "75%    365.500000    0.061000    0.640000    1.700000    0.026000    0.012000   \n",
       "max    487.000000    0.470000    3.910000    8.360000    0.046000    0.032000   \n",
       "\n",
       "               Cr          Ni          Mo           N  ...          Al  \\\n",
       "count  487.000000  487.000000  487.000000  487.000000  ...  487.000000   \n",
       "mean    19.112074   14.687187    0.924189    0.052364  ...    0.074885   \n",
       "std      3.276513    8.155322    1.115059    0.061406  ...    0.162976   \n",
       "min     12.630000    0.130000    0.000000    0.002000  ...    0.002000   \n",
       "25%     17.000000    9.650000    0.000000    0.019000  ...    0.020000   \n",
       "50%     18.320000   12.030000    0.190000    0.030000  ...    0.020000   \n",
       "75%     21.600000   16.870000    2.150000    0.060000  ...    0.023000   \n",
       "max     26.950000   33.950000    3.760000    0.368000  ...    1.080000   \n",
       "\n",
       "               Ti           V           B          Th           I           U  \\\n",
       "count  487.000000  487.000000  487.000000  487.000000  487.000000  487.000000   \n",
       "mean     0.113185    0.048747    0.000515    5.840955  147.186858   13.712526   \n",
       "std      0.193230    0.172598    0.001669    3.453002   81.701882    2.258616   \n",
       "min      0.000000    0.000000    0.000000    3.000000   50.000000    8.000000   \n",
       "25%      0.000000    0.000000    0.000000    3.180000  100.000000   12.000000   \n",
       "50%      0.000000    0.000000    0.000000    5.000000  100.000000   13.000000   \n",
       "75%      0.250000    0.000000    0.000000    6.400000  180.000000   16.000000   \n",
       "max      1.060000    0.840000    0.011400   12.700000  330.000000   17.000000   \n",
       "\n",
       "               Ve      Strain         TCL  \n",
       "count  487.000000  487.000000  487.000000  \n",
       "mean     2.669425    2.031930    3.845955  \n",
       "std      1.151274    1.406767    4.188706  \n",
       "min      1.250000    0.000000    0.000000  \n",
       "25%      1.670000    1.000000    0.410000  \n",
       "50%      2.530000    2.000000    2.500000  \n",
       "75%      4.000000    3.200000    6.005000  \n",
       "max      4.450000    5.000000   19.300000  \n",
       "\n",
       "[8 rows x 23 columns]"
      ]
     },
     "execution_count": 360,
     "metadata": {},
     "output_type": "execute_result"
    }
   ],
   "source": [
    "df_experiment.describe()  #look for the scale"
   ]
  },
  {
   "cell_type": "markdown",
   "metadata": {},
   "source": [
    "### above shows the statistical variations within the compostions of the various samples as well as the values of strain and the TCL values"
   ]
  },
  {
   "cell_type": "code",
   "execution_count": 361,
   "metadata": {},
   "outputs": [
    {
     "name": "stderr",
     "output_type": "stream",
     "text": [
      "C:\\ProgramData\\Anaconda3\\lib\\site-packages\\seaborn\\distributions.py:2551: FutureWarning: `distplot` is a deprecated function and will be removed in a future version. Please adapt your code to use either `displot` (a figure-level function with similar flexibility) or `histplot` (an axes-level function for histograms).\n",
      "  warnings.warn(msg, FutureWarning)\n",
      "C:\\ProgramData\\Anaconda3\\lib\\site-packages\\seaborn\\distributions.py:2551: FutureWarning: `distplot` is a deprecated function and will be removed in a future version. Please adapt your code to use either `displot` (a figure-level function with similar flexibility) or `histplot` (an axes-level function for histograms).\n",
      "  warnings.warn(msg, FutureWarning)\n",
      "C:\\ProgramData\\Anaconda3\\lib\\site-packages\\seaborn\\distributions.py:2551: FutureWarning: `distplot` is a deprecated function and will be removed in a future version. Please adapt your code to use either `displot` (a figure-level function with similar flexibility) or `histplot` (an axes-level function for histograms).\n",
      "  warnings.warn(msg, FutureWarning)\n",
      "C:\\ProgramData\\Anaconda3\\lib\\site-packages\\seaborn\\distributions.py:2551: FutureWarning: `distplot` is a deprecated function and will be removed in a future version. Please adapt your code to use either `displot` (a figure-level function with similar flexibility) or `histplot` (an axes-level function for histograms).\n",
      "  warnings.warn(msg, FutureWarning)\n",
      "C:\\ProgramData\\Anaconda3\\lib\\site-packages\\seaborn\\distributions.py:2551: FutureWarning: `distplot` is a deprecated function and will be removed in a future version. Please adapt your code to use either `displot` (a figure-level function with similar flexibility) or `histplot` (an axes-level function for histograms).\n",
      "  warnings.warn(msg, FutureWarning)\n",
      "C:\\ProgramData\\Anaconda3\\lib\\site-packages\\seaborn\\distributions.py:2551: FutureWarning: `distplot` is a deprecated function and will be removed in a future version. Please adapt your code to use either `displot` (a figure-level function with similar flexibility) or `histplot` (an axes-level function for histograms).\n",
      "  warnings.warn(msg, FutureWarning)\n",
      "C:\\ProgramData\\Anaconda3\\lib\\site-packages\\seaborn\\distributions.py:2551: FutureWarning: `distplot` is a deprecated function and will be removed in a future version. Please adapt your code to use either `displot` (a figure-level function with similar flexibility) or `histplot` (an axes-level function for histograms).\n",
      "  warnings.warn(msg, FutureWarning)\n",
      "C:\\ProgramData\\Anaconda3\\lib\\site-packages\\seaborn\\distributions.py:2551: FutureWarning: `distplot` is a deprecated function and will be removed in a future version. Please adapt your code to use either `displot` (a figure-level function with similar flexibility) or `histplot` (an axes-level function for histograms).\n",
      "  warnings.warn(msg, FutureWarning)\n"
     ]
    },
    {
     "data": {
      "text/plain": [
       "<AxesSubplot:xlabel='TCL', ylabel='Density'>"
      ]
     },
     "execution_count": 361,
     "metadata": {},
     "output_type": "execute_result"
    },
    {
     "data": {
      "image/png": "[encoded data removed]",
      "text/plain": [
       "<Figure size 1080x576 with 8 Axes>"
      ]
     },
     "metadata": {},
     "output_type": "display_data"
    }
   ],
   "source": [
    "sns.set(color_codes=True)  #set colors\n",
    "colors=sns.color_palette(\"bright\")\n",
    "\n",
    "fig,axes =plt.subplots(2,4,figsize=(15,8))\n",
    "\n",
    "sns.distplot(df_experiment[\"C\"],color=colors[0],ax=axes[0,0])\n",
    "sns.distplot(df_experiment[\"Si\"],color=colors[1],ax=axes[0,1])\n",
    "sns.distplot(df_experiment[\"Mn\"],color=colors[2],ax=axes[0,2])\n",
    "sns.distplot(df_experiment[\"P\"],color=colors[3],ax=axes[0,3])\n",
    "sns.distplot(df_experiment[\"S\"],color=colors[4],ax=axes[1,0])\n",
    "sns.distplot(df_experiment[\"Cr\"],color=colors[5],ax=axes[1,1])\n",
    "sns.distplot(df_experiment[\"Strain\"],color=colors[6],ax=axes[1,2])\n",
    "sns.distplot(df_experiment[\"TCL\"],color=colors[7],ax=axes[1,3])\n",
    "\n"
   ]
  },
  {
   "cell_type": "markdown",
   "metadata": {},
   "source": [
    "### The Statistical Distribution is left skewed for the Carbon,Silicon,Manganese and Sulphur . The distribution of the Phosphrus is bimodal and that of Chromium can be assumed to be within normal distribution. The distribution of the strain applied is skewed and same can be said for the TCl value"
   ]
  },
  {
   "cell_type": "code",
   "execution_count": 362,
   "metadata": {},
   "outputs": [
    {
     "data": {
      "text/plain": [
       "<AxesSubplot:ylabel='TCL'>"
      ]
     },
     "execution_count": 362,
     "metadata": {},
     "output_type": "execute_result"
    },
    {
     "data": {
      "image/png": "[encoded data removed]",
      "text/plain": [
       "<Figure size 1080x576 with 8 Axes>"
      ]
     },
     "metadata": {},
     "output_type": "display_data"
    }
   ],
   "source": [
    "sns.set(color_codes=True)  #set colors\n",
    "colors=sns.color_palette(\"bright\")\n",
    "\n",
    "fig,axes =plt.subplots(2,4,figsize=(15,8))\n",
    "\n",
    "sns.boxplot(y=df_experiment[\"C\"],color=colors[0],ax=axes[0,0])\n",
    "sns.boxplot(y=df_experiment[\"Si\"],color=colors[1],ax=axes[0,1])\n",
    "sns.boxplot(y=df_experiment[\"Mn\"],color=colors[2],ax=axes[0,2])\n",
    "sns.boxplot(y=df_experiment[\"P\"],color=colors[3],ax=axes[0,3])\n",
    "sns.boxplot(y=df_experiment[\"S\"],color=colors[4],ax=axes[1,0])\n",
    "sns.boxplot(y=df_experiment[\"Cr\"],color=colors[3],ax=axes[1,1])\n",
    "sns.boxplot(y=df_experiment[\"Strain\"],color=colors[5],ax=axes[1,2])\n",
    "sns.boxplot(y=df_experiment[\"TCL\"],color=colors[6],ax=axes[1,3])"
   ]
  },
  {
   "cell_type": "markdown",
   "metadata": {},
   "source": [
    "### The boxplots are plotted to show the outliers within the dataset of the percentage compositions of the different specimens of the different grades of the steels. But the steels with the varying grades can not be necessarily casted out as outliers as the compositional; variations in steel can be justified within the metallurgical understanding an thus even if they are statistical outliers they cant be considered as logical outliers"
   ]
  },
  {
   "cell_type": "markdown",
   "metadata": {},
   "source": [
    "## Cleaning and preparing the dataset\n",
    "\n",
    "### After performing the visualization of our daatset it is very necessary to clean the garbage values and the outliers if any and prepare the final dataset for the regression analysis and also the model prediction"
   ]
  },
  {
   "cell_type": "code",
   "execution_count": 363,
   "metadata": {},
   "outputs": [],
   "source": [
    "# strip data only when we can justify . logical outliers are omitted and not statistical outliers\n",
    "#strip the 0 in the dimensions of diamonds\n"
   ]
  },
  {
   "cell_type": "code",
   "execution_count": 364,
   "metadata": {},
   "outputs": [
    {
     "data": {
      "text/plain": [
       "(82, 23)"
      ]
     },
     "execution_count": 364,
     "metadata": {},
     "output_type": "execute_result"
    }
   ],
   "source": [
    "wierd_zeros=df_experiment[(df_experiment[\"C\"]==0) | (df_experiment[\"Strain\"]==0) | (df_experiment[\"TCL\"]==0)]\n",
    "wierd_zeros.shape\n"
   ]
  },
  {
   "cell_type": "code",
   "execution_count": 365,
   "metadata": {},
   "outputs": [
    {
     "data": {
      "text/html": [
       "<div>\n",
       "<style scoped>\n",
       "    .dataframe tbody tr th:only-of-type {\n",
       "        vertical-align: middle;\n",
       "    }\n",
       "\n",
       "    .dataframe tbody tr th {\n",
       "        vertical-align: top;\n",
       "    }\n",
       "\n",
       "    .dataframe thead th {\n",
       "        text-align: right;\n",
       "    }\n",
       "</style>\n",
       "<table border=\"1\" class=\"dataframe\">\n",
       "  <thead>\n",
       "    <tr style=\"text-align: right;\">\n",
       "      <th></th>\n",
       "      <th>No.</th>\n",
       "      <th>C</th>\n",
       "      <th>Si</th>\n",
       "      <th>Mn</th>\n",
       "      <th>P</th>\n",
       "      <th>S</th>\n",
       "      <th>Cr</th>\n",
       "      <th>Ni</th>\n",
       "      <th>Mo</th>\n",
       "      <th>N</th>\n",
       "      <th>...</th>\n",
       "      <th>Al</th>\n",
       "      <th>Ti</th>\n",
       "      <th>V</th>\n",
       "      <th>B</th>\n",
       "      <th>Th</th>\n",
       "      <th>I</th>\n",
       "      <th>U</th>\n",
       "      <th>Ve</th>\n",
       "      <th>Strain</th>\n",
       "      <th>TCL</th>\n",
       "    </tr>\n",
       "  </thead>\n",
       "  <tbody>\n",
       "    <tr>\n",
       "      <th>42</th>\n",
       "      <td>43</td>\n",
       "      <td>0.011</td>\n",
       "      <td>0.58</td>\n",
       "      <td>1.06</td>\n",
       "      <td>0.032</td>\n",
       "      <td>0.013</td>\n",
       "      <td>16.95</td>\n",
       "      <td>10.50</td>\n",
       "      <td>2.15</td>\n",
       "      <td>0.078</td>\n",
       "      <td>...</td>\n",
       "      <td>0.02</td>\n",
       "      <td>0.0</td>\n",
       "      <td>0.0</td>\n",
       "      <td>0.0</td>\n",
       "      <td>3.18</td>\n",
       "      <td>100</td>\n",
       "      <td>12.0</td>\n",
       "      <td>4.23</td>\n",
       "      <td>0.25</td>\n",
       "      <td>0.0</td>\n",
       "    </tr>\n",
       "    <tr>\n",
       "      <th>44</th>\n",
       "      <td>45</td>\n",
       "      <td>0.050</td>\n",
       "      <td>0.53</td>\n",
       "      <td>1.93</td>\n",
       "      <td>0.029</td>\n",
       "      <td>0.005</td>\n",
       "      <td>18.10</td>\n",
       "      <td>10.50</td>\n",
       "      <td>0.00</td>\n",
       "      <td>0.030</td>\n",
       "      <td>...</td>\n",
       "      <td>0.02</td>\n",
       "      <td>0.0</td>\n",
       "      <td>0.0</td>\n",
       "      <td>0.0</td>\n",
       "      <td>3.18</td>\n",
       "      <td>100</td>\n",
       "      <td>12.0</td>\n",
       "      <td>4.23</td>\n",
       "      <td>0.25</td>\n",
       "      <td>0.0</td>\n",
       "    </tr>\n",
       "    <tr>\n",
       "      <th>45</th>\n",
       "      <td>46</td>\n",
       "      <td>0.011</td>\n",
       "      <td>0.58</td>\n",
       "      <td>1.06</td>\n",
       "      <td>0.032</td>\n",
       "      <td>0.013</td>\n",
       "      <td>16.95</td>\n",
       "      <td>10.50</td>\n",
       "      <td>2.15</td>\n",
       "      <td>0.078</td>\n",
       "      <td>...</td>\n",
       "      <td>0.02</td>\n",
       "      <td>0.0</td>\n",
       "      <td>0.0</td>\n",
       "      <td>0.0</td>\n",
       "      <td>3.18</td>\n",
       "      <td>100</td>\n",
       "      <td>12.0</td>\n",
       "      <td>4.23</td>\n",
       "      <td>0.50</td>\n",
       "      <td>0.0</td>\n",
       "    </tr>\n",
       "    <tr>\n",
       "      <th>47</th>\n",
       "      <td>48</td>\n",
       "      <td>0.050</td>\n",
       "      <td>0.53</td>\n",
       "      <td>1.93</td>\n",
       "      <td>0.029</td>\n",
       "      <td>0.005</td>\n",
       "      <td>18.10</td>\n",
       "      <td>10.50</td>\n",
       "      <td>0.00</td>\n",
       "      <td>0.030</td>\n",
       "      <td>...</td>\n",
       "      <td>0.02</td>\n",
       "      <td>0.0</td>\n",
       "      <td>0.0</td>\n",
       "      <td>0.0</td>\n",
       "      <td>3.18</td>\n",
       "      <td>100</td>\n",
       "      <td>12.0</td>\n",
       "      <td>4.23</td>\n",
       "      <td>0.50</td>\n",
       "      <td>0.0</td>\n",
       "    </tr>\n",
       "    <tr>\n",
       "      <th>79</th>\n",
       "      <td>80</td>\n",
       "      <td>0.060</td>\n",
       "      <td>0.64</td>\n",
       "      <td>0.96</td>\n",
       "      <td>0.020</td>\n",
       "      <td>0.003</td>\n",
       "      <td>18.60</td>\n",
       "      <td>9.65</td>\n",
       "      <td>0.00</td>\n",
       "      <td>0.028</td>\n",
       "      <td>...</td>\n",
       "      <td>0.02</td>\n",
       "      <td>0.0</td>\n",
       "      <td>0.0</td>\n",
       "      <td>0.0</td>\n",
       "      <td>12.00</td>\n",
       "      <td>250</td>\n",
       "      <td>17.0</td>\n",
       "      <td>1.67</td>\n",
       "      <td>0.50</td>\n",
       "      <td>0.0</td>\n",
       "    </tr>\n",
       "    <tr>\n",
       "      <th>...</th>\n",
       "      <td>...</td>\n",
       "      <td>...</td>\n",
       "      <td>...</td>\n",
       "      <td>...</td>\n",
       "      <td>...</td>\n",
       "      <td>...</td>\n",
       "      <td>...</td>\n",
       "      <td>...</td>\n",
       "      <td>...</td>\n",
       "      <td>...</td>\n",
       "      <td>...</td>\n",
       "      <td>...</td>\n",
       "      <td>...</td>\n",
       "      <td>...</td>\n",
       "      <td>...</td>\n",
       "      <td>...</td>\n",
       "      <td>...</td>\n",
       "      <td>...</td>\n",
       "      <td>...</td>\n",
       "      <td>...</td>\n",
       "      <td>...</td>\n",
       "    </tr>\n",
       "    <tr>\n",
       "      <th>472</th>\n",
       "      <td>473</td>\n",
       "      <td>0.029</td>\n",
       "      <td>0.20</td>\n",
       "      <td>1.46</td>\n",
       "      <td>0.005</td>\n",
       "      <td>0.003</td>\n",
       "      <td>20.22</td>\n",
       "      <td>9.28</td>\n",
       "      <td>0.00</td>\n",
       "      <td>0.133</td>\n",
       "      <td>...</td>\n",
       "      <td>0.02</td>\n",
       "      <td>0.0</td>\n",
       "      <td>0.0</td>\n",
       "      <td>0.0</td>\n",
       "      <td>5.00</td>\n",
       "      <td>70</td>\n",
       "      <td>16.0</td>\n",
       "      <td>1.25</td>\n",
       "      <td>2.40</td>\n",
       "      <td>0.0</td>\n",
       "    </tr>\n",
       "    <tr>\n",
       "      <th>478</th>\n",
       "      <td>479</td>\n",
       "      <td>0.015</td>\n",
       "      <td>0.35</td>\n",
       "      <td>1.61</td>\n",
       "      <td>0.008</td>\n",
       "      <td>0.004</td>\n",
       "      <td>18.00</td>\n",
       "      <td>9.90</td>\n",
       "      <td>0.00</td>\n",
       "      <td>0.022</td>\n",
       "      <td>...</td>\n",
       "      <td>0.02</td>\n",
       "      <td>0.0</td>\n",
       "      <td>0.0</td>\n",
       "      <td>0.0</td>\n",
       "      <td>5.00</td>\n",
       "      <td>70</td>\n",
       "      <td>16.0</td>\n",
       "      <td>1.25</td>\n",
       "      <td>1.20</td>\n",
       "      <td>0.0</td>\n",
       "    </tr>\n",
       "    <tr>\n",
       "      <th>479</th>\n",
       "      <td>480</td>\n",
       "      <td>0.015</td>\n",
       "      <td>0.34</td>\n",
       "      <td>1.61</td>\n",
       "      <td>0.004</td>\n",
       "      <td>0.004</td>\n",
       "      <td>17.60</td>\n",
       "      <td>10.00</td>\n",
       "      <td>0.00</td>\n",
       "      <td>0.049</td>\n",
       "      <td>...</td>\n",
       "      <td>0.02</td>\n",
       "      <td>0.0</td>\n",
       "      <td>0.0</td>\n",
       "      <td>0.0</td>\n",
       "      <td>5.00</td>\n",
       "      <td>70</td>\n",
       "      <td>16.0</td>\n",
       "      <td>1.25</td>\n",
       "      <td>1.20</td>\n",
       "      <td>0.0</td>\n",
       "    </tr>\n",
       "    <tr>\n",
       "      <th>483</th>\n",
       "      <td>484</td>\n",
       "      <td>0.014</td>\n",
       "      <td>0.35</td>\n",
       "      <td>1.67</td>\n",
       "      <td>0.027</td>\n",
       "      <td>0.007</td>\n",
       "      <td>17.70</td>\n",
       "      <td>9.70</td>\n",
       "      <td>0.00</td>\n",
       "      <td>0.047</td>\n",
       "      <td>...</td>\n",
       "      <td>0.02</td>\n",
       "      <td>0.0</td>\n",
       "      <td>0.0</td>\n",
       "      <td>0.0</td>\n",
       "      <td>5.00</td>\n",
       "      <td>70</td>\n",
       "      <td>16.0</td>\n",
       "      <td>1.25</td>\n",
       "      <td>1.20</td>\n",
       "      <td>0.0</td>\n",
       "    </tr>\n",
       "    <tr>\n",
       "      <th>485</th>\n",
       "      <td>486</td>\n",
       "      <td>0.050</td>\n",
       "      <td>0.75</td>\n",
       "      <td>0.94</td>\n",
       "      <td>0.026</td>\n",
       "      <td>0.007</td>\n",
       "      <td>18.30</td>\n",
       "      <td>9.40</td>\n",
       "      <td>0.00</td>\n",
       "      <td>0.016</td>\n",
       "      <td>...</td>\n",
       "      <td>0.02</td>\n",
       "      <td>0.0</td>\n",
       "      <td>0.0</td>\n",
       "      <td>0.0</td>\n",
       "      <td>5.00</td>\n",
       "      <td>70</td>\n",
       "      <td>16.0</td>\n",
       "      <td>1.25</td>\n",
       "      <td>1.20</td>\n",
       "      <td>0.0</td>\n",
       "    </tr>\n",
       "  </tbody>\n",
       "</table>\n",
       "<p>82 rows × 23 columns</p>\n",
       "</div>"
      ],
      "text/plain": [
       "     No.      C    Si    Mn      P      S     Cr     Ni    Mo      N  ...  \\\n",
       "42    43  0.011  0.58  1.06  0.032  0.013  16.95  10.50  2.15  0.078  ...   \n",
       "44    45  0.050  0.53  1.93  0.029  0.005  18.10  10.50  0.00  0.030  ...   \n",
       "45    46  0.011  0.58  1.06  0.032  0.013  16.95  10.50  2.15  0.078  ...   \n",
       "47    48  0.050  0.53  1.93  0.029  0.005  18.10  10.50  0.00  0.030  ...   \n",
       "79    80  0.060  0.64  0.96  0.020  0.003  18.60   9.65  0.00  0.028  ...   \n",
       "..   ...    ...   ...   ...    ...    ...    ...    ...   ...    ...  ...   \n",
       "472  473  0.029  0.20  1.46  0.005  0.003  20.22   9.28  0.00  0.133  ...   \n",
       "478  479  0.015  0.35  1.61  0.008  0.004  18.00   9.90  0.00  0.022  ...   \n",
       "479  480  0.015  0.34  1.61  0.004  0.004  17.60  10.00  0.00  0.049  ...   \n",
       "483  484  0.014  0.35  1.67  0.027  0.007  17.70   9.70  0.00  0.047  ...   \n",
       "485  486  0.050  0.75  0.94  0.026  0.007  18.30   9.40  0.00  0.016  ...   \n",
       "\n",
       "       Al   Ti    V    B     Th    I     U    Ve  Strain  TCL  \n",
       "42   0.02  0.0  0.0  0.0   3.18  100  12.0  4.23    0.25  0.0  \n",
       "44   0.02  0.0  0.0  0.0   3.18  100  12.0  4.23    0.25  0.0  \n",
       "45   0.02  0.0  0.0  0.0   3.18  100  12.0  4.23    0.50  0.0  \n",
       "47   0.02  0.0  0.0  0.0   3.18  100  12.0  4.23    0.50  0.0  \n",
       "79   0.02  0.0  0.0  0.0  12.00  250  17.0  1.67    0.50  0.0  \n",
       "..    ...  ...  ...  ...    ...  ...   ...   ...     ...  ...  \n",
       "472  0.02  0.0  0.0  0.0   5.00   70  16.0  1.25    2.40  0.0  \n",
       "478  0.02  0.0  0.0  0.0   5.00   70  16.0  1.25    1.20  0.0  \n",
       "479  0.02  0.0  0.0  0.0   5.00   70  16.0  1.25    1.20  0.0  \n",
       "483  0.02  0.0  0.0  0.0   5.00   70  16.0  1.25    1.20  0.0  \n",
       "485  0.02  0.0  0.0  0.0   5.00   70  16.0  1.25    1.20  0.0  \n",
       "\n",
       "[82 rows x 23 columns]"
      ]
     },
     "execution_count": 365,
     "metadata": {},
     "output_type": "execute_result"
    }
   ],
   "source": [
    "wierd_zeros"
   ]
  },
  {
   "cell_type": "markdown",
   "metadata": {},
   "source": [
    "### the above representation shows the distrubutionsubset which has zero values. Here it is to be noted that the zero values are logically not wierd as the compostion of certain samples can have 0% of something which is normal. But for our main variables like C, Mn,Cr S and P there should not be any zero value present as the grades of steel are hoigh chromium and high manganese steel .Thus a zero value in these columns can be considered as a input mistake and can be discarded as garbage values"
   ]
  },
  {
   "cell_type": "code",
   "execution_count": 366,
   "metadata": {},
   "outputs": [
    {
     "data": {
      "text/plain": [
       "(405, 23)"
      ]
     },
     "execution_count": 366,
     "metadata": {},
     "output_type": "execute_result"
    }
   ],
   "source": [
    "#get rid of wierd zeros#code to remove zeros\n",
    "\n",
    "df_experimentX=df_experiment.copy()\n",
    "df_experimentX=df_experimentX[~df_experimentX.isin(wierd_zeros)].dropna(how=\"all\")\n",
    "df_experimentX.shape"
   ]
  },
  {
   "cell_type": "markdown",
   "metadata": {},
   "source": [
    "### After eliminating the garbage values we have the cleaned dataset"
   ]
  },
  {
   "cell_type": "code",
   "execution_count": 367,
   "metadata": {},
   "outputs": [
    {
     "name": "stdout",
     "output_type": "stream",
     "text": [
      "Requirement already satisfied: fitter in c:\\programdata\\anaconda3\\lib\\site-packages (1.3.0)\n",
      "Requirement already satisfied: matplotlib in c:\\programdata\\anaconda3\\lib\\site-packages (from fitter) (3.3.2)\n",
      "Requirement already satisfied: easydev in c:\\programdata\\anaconda3\\lib\\site-packages (from fitter) (0.11.1)\n",
      "Requirement already satisfied: scipy>=0.18 in c:\\programdata\\anaconda3\\lib\\site-packages (from fitter) (1.5.2)\n",
      "Requirement already satisfied: joblib in c:\\programdata\\anaconda3\\lib\\site-packages (from fitter) (0.17.0)\n",
      "Requirement already satisfied: numpy in c:\\programdata\\anaconda3\\lib\\site-packages (from fitter) (1.19.2)\n",
      "Requirement already satisfied: click in c:\\programdata\\anaconda3\\lib\\site-packages (from fitter) (7.1.2)\n",
      "Requirement already satisfied: pandas in c:\\programdata\\anaconda3\\lib\\site-packages (from fitter) (1.1.3)\n",
      "Requirement already satisfied: certifi>=2020.06.20 in c:\\programdata\\anaconda3\\lib\\site-packages (from matplotlib->fitter) (2020.6.20)\n",
      "Requirement already satisfied: cycler>=0.10 in c:\\programdata\\anaconda3\\lib\\site-packages (from matplotlib->fitter) (0.10.0)\n",
      "Requirement already satisfied: pyparsing!=2.0.4,!=2.1.2,!=2.1.6,>=2.0.3 in c:\\programdata\\anaconda3\\lib\\site-packages (from matplotlib->fitter) (2.4.7)\n",
      "Requirement already satisfied: pillow>=6.2.0 in c:\\programdata\\anaconda3\\lib\\site-packages (from matplotlib->fitter) (8.0.1)\n",
      "Requirement already satisfied: kiwisolver>=1.0.1 in c:\\programdata\\anaconda3\\lib\\site-packages (from matplotlib->fitter) (1.3.0)\n",
      "Requirement already satisfied: python-dateutil>=2.1 in c:\\programdata\\anaconda3\\lib\\site-packages (from matplotlib->fitter) (2.8.1)\n",
      "Requirement already satisfied: pexpect in c:\\programdata\\anaconda3\\lib\\site-packages (from easydev->fitter) (4.8.0)\n",
      "Requirement already satisfied: colorlog in c:\\programdata\\anaconda3\\lib\\site-packages (from easydev->fitter) (5.0.1)\n",
      "Requirement already satisfied: colorama in c:\\programdata\\anaconda3\\lib\\site-packages (from easydev->fitter) (0.4.4)\n",
      "Requirement already satisfied: pytz>=2017.2 in c:\\programdata\\anaconda3\\lib\\site-packages (from pandas->fitter) (2020.1)\n",
      "Requirement already satisfied: six in c:\\programdata\\anaconda3\\lib\\site-packages (from cycler>=0.10->matplotlib->fitter) (1.15.0)\n",
      "Requirement already satisfied: ptyprocess>=0.5 in c:\\programdata\\anaconda3\\lib\\site-packages (from pexpect->easydev->fitter) (0.7.0)\n"
     ]
    }
   ],
   "source": [
    "!pip install fitter\n",
    "from fitter import Fitter"
   ]
  },
  {
   "cell_type": "code",
   "execution_count": 368,
   "metadata": {},
   "outputs": [
    {
     "data": {
      "text/html": [
       "\n",
       "            <div style=\"float: left; border: 1px solid black; width:500px\">\n",
       "              <div id=\"1cae4e50-a016-4dd5-ade0-689c4d45ad09\" style=\"background-color:blue; width:0%\">&nbsp;</div>\n",
       "            </div>\n",
       "            <label id=\"30f4066c-ef60-4614-9e37-672f82dfe970\" style=\"padding-left: 10px;\" text = \"\"/>\n",
       "            "
      ],
      "text/plain": [
       "<IPython.core.display.HTML object>"
      ]
     },
     "metadata": {},
     "output_type": "display_data"
    },
    {
     "name": "stderr",
     "output_type": "stream",
     "text": [
      "C:\\ProgramData\\Anaconda3\\lib\\site-packages\\scipy\\stats\\_distn_infrastructure.py:1715: IntegrationWarning: The maximum number of subdivisions (50) has been achieved.\n",
      "  If increasing the limit yields no improvement it is advised to analyze \n",
      "  the integrand in order to determine the difficulties.  If the position of a \n",
      "  local difficulty can be determined (singularity, discontinuity) one will \n",
      "  probably gain from splitting up the interval and calling the integrator \n",
      "  on the subranges.  Perhaps a special-purpose integrator should be used.\n",
      "  return integrate.quad(self._mom_integ1, 0, 1, args=(m,)+args)[0]\n",
      "WARNING:root:SKIPPED kstwo distribution (taking more than 30 seconds)\n",
      "C:\\ProgramData\\Anaconda3\\lib\\site-packages\\scipy\\stats\\_distn_infrastructure.py:1715: IntegrationWarning: The integral is probably divergent, or slowly convergent.\n",
      "  return integrate.quad(self._mom_integ1, 0, 1, args=(m,)+args)[0]\n",
      "C:\\ProgramData\\Anaconda3\\lib\\site-packages\\scipy\\stats\\_distn_infrastructure.py:1715: IntegrationWarning: The algorithm does not converge.  Roundoff error is detected\n",
      "  in the extrapolation table.  It is assumed that the requested tolerance\n",
      "  cannot be achieved, and that the returned result (if full_output = 1) is \n",
      "  the best which can be obtained.\n",
      "  return integrate.quad(self._mom_integ1, 0, 1, args=(m,)+args)[0]\n",
      "WARNING:root:SKIPPED rv_continuous distribution (taking more than 30 seconds)\n",
      "WARNING:root:SKIPPED rv_histogram distribution (taking more than 30 seconds)\n",
      "WARNING:root:SKIPPED genexpon distribution (taking more than 30 seconds)\n",
      "WARNING:root:SKIPPED levy_stable distribution (taking more than 30 seconds)\n",
      "WARNING:root:SKIPPED recipinvgauss distribution (taking more than 30 seconds)\n",
      "WARNING:root:SKIPPED vonmises distribution (taking more than 30 seconds)\n"
     ]
    },
    {
     "data": {
      "text/html": [
       "<div>\n",
       "<style scoped>\n",
       "    .dataframe tbody tr th:only-of-type {\n",
       "        vertical-align: middle;\n",
       "    }\n",
       "\n",
       "    .dataframe tbody tr th {\n",
       "        vertical-align: top;\n",
       "    }\n",
       "\n",
       "    .dataframe thead th {\n",
       "        text-align: right;\n",
       "    }\n",
       "</style>\n",
       "<table border=\"1\" class=\"dataframe\">\n",
       "  <thead>\n",
       "    <tr style=\"text-align: right;\">\n",
       "      <th></th>\n",
       "      <th>sumsquare_error</th>\n",
       "      <th>aic</th>\n",
       "      <th>bic</th>\n",
       "      <th>kl_div</th>\n",
       "    </tr>\n",
       "  </thead>\n",
       "  <tbody>\n",
       "    <tr>\n",
       "      <th>chi</th>\n",
       "      <td>0.061180</td>\n",
       "      <td>727.320115</td>\n",
       "      <td>-3545.105892</td>\n",
       "      <td>inf</td>\n",
       "    </tr>\n",
       "    <tr>\n",
       "      <th>nakagami</th>\n",
       "      <td>0.061265</td>\n",
       "      <td>729.746098</td>\n",
       "      <td>-3544.542929</td>\n",
       "      <td>inf</td>\n",
       "    </tr>\n",
       "    <tr>\n",
       "      <th>gausshyper</th>\n",
       "      <td>0.061292</td>\n",
       "      <td>733.278278</td>\n",
       "      <td>-3526.354796</td>\n",
       "      <td>inf</td>\n",
       "    </tr>\n",
       "    <tr>\n",
       "      <th>beta</th>\n",
       "      <td>0.061552</td>\n",
       "      <td>723.995385</td>\n",
       "      <td>-3536.644013</td>\n",
       "      <td>inf</td>\n",
       "    </tr>\n",
       "    <tr>\n",
       "      <th>gamma</th>\n",
       "      <td>0.061903</td>\n",
       "      <td>727.563368</td>\n",
       "      <td>-3540.349863</td>\n",
       "      <td>inf</td>\n",
       "    </tr>\n",
       "  </tbody>\n",
       "</table>\n",
       "</div>"
      ],
      "text/plain": [
       "            sumsquare_error         aic          bic  kl_div\n",
       "chi                0.061180  727.320115 -3545.105892     inf\n",
       "nakagami           0.061265  729.746098 -3544.542929     inf\n",
       "gausshyper         0.061292  733.278278 -3526.354796     inf\n",
       "beta               0.061552  723.995385 -3536.644013     inf\n",
       "gamma              0.061903  727.563368 -3540.349863     inf"
      ]
     },
     "execution_count": 368,
     "metadata": {},
     "output_type": "execute_result"
    },
    {
     "name": "stderr",
     "output_type": "stream",
     "text": [
      "C:\\ProgramData\\Anaconda3\\lib\\site-packages\\scipy\\stats\\_distn_infrastructure.py:1715: IntegrationWarning: The integral is probably divergent, or slowly convergent.\n",
      "  return integrate.quad(self._mom_integ1, 0, 1, args=(m,)+args)[0]\n"
     ]
    },
    {
     "data": {
      "image/png": "[encoded data removed]",
      "text/plain": [
       "<Figure size 432x288 with 1 Axes>"
      ]
     },
     "metadata": {},
     "output_type": "display_data"
    }
   ],
   "source": [
    "f=Fitter(data)\n",
    "f.fit()\n",
    "f.summary()"
   ]
  },
  {
   "cell_type": "code",
   "execution_count": 369,
   "metadata": {},
   "outputs": [],
   "source": [
    "## resembles kind of a chi squared distribution"
   ]
  },
  {
   "cell_type": "markdown",
   "metadata": {},
   "source": [
    "### The fitter function is called here to see the actual distribution of the TCL value parameter as that is whart we need to be predicting and from the distributional analysis it was quiet clear taht this is not a normal distribution"
   ]
  },
  {
   "cell_type": "markdown",
   "metadata": {},
   "source": [
    "### From the fitter function it can be seen taht the distribution falls priomarily under the function of exponential Weibull disrtribution. But for some simplicity sake we can also consider thsi to be a exponpow or a chi distribution"
   ]
  },
  {
   "cell_type": "markdown",
   "metadata": {},
   "source": [
    "### After cleqning our dataset it is time for us to actually split the data into the training and the testing set such that we can train the different models with the training data and test the models with the test data.It is to be noted that here no cross validation of the data is not performed but can easily be considered if we slpit the teraining testing and the cross validation data in a 70:20:10 ratio "
   ]
  },
  {
   "cell_type": "code",
   "execution_count": 370,
   "metadata": {},
   "outputs": [],
   "source": [
    "# now we split the data\n",
    "#random state= something --exact same split every time\n",
    "df= df_experimentX.copy()\n",
    "\n",
    "train_df,test_df=train_test_split(df,test_size=0.3,random_state=32)"
   ]
  },
  {
   "cell_type": "code",
   "execution_count": 371,
   "metadata": {},
   "outputs": [],
   "source": [
    "y_test=test_df[\"TCL\"]\n",
    "\n",
    "x_test=test_df.drop(columns=[\"TCL\"],axis= 1)\n",
    "\n",
    "y_train=train_df[\"TCL\"]\n",
    "\n",
    "x_train=train_df.drop(columns=[\"TCL\"],axis= 1)\n"
   ]
  },
  {
   "cell_type": "markdown",
   "metadata": {},
   "source": [
    "### After splitting the dataset into the training and the testing test then we create a evaluation function which will take into the true value of the TCL variable and the predicted value and gives the performance of the model by calculating the mean absolute error ,the mean squared error and the r2 score"
   ]
  },
  {
   "cell_type": "code",
   "execution_count": 372,
   "metadata": {},
   "outputs": [],
   "source": [
    "# evaluation function -- evaluates the prediction with the actual values\n",
    "\n",
    "def error_matrics(y_true,y_pred):\n",
    "    mean_abs=\"Mean_absolute_error: {}\".format(mean_absolute_error(y_true,y_pred))\n",
    "    mean_squared=\"Mean_squared_error: {}\".format(mean_squared_error(y_true,y_pred))\n",
    "    r_2=\"r2 score: {}\".format(r2_score(y_true,y_pred))\n",
    "    return mean_abs,mean_squared,r_2\n",
    "    "
   ]
  },
  {
   "cell_type": "markdown",
   "metadata": {},
   "source": [
    "### Now we will put the traioning set values into the different regression models and testing the nodels with the evaluation function"
   ]
  },
  {
   "cell_type": "markdown",
   "metadata": {},
   "source": [
    "### Linear Regression Model"
   ]
  },
  {
   "cell_type": "code",
   "execution_count": 373,
   "metadata": {},
   "outputs": [
    {
     "name": "stdout",
     "output_type": "stream",
     "text": [
      "-2.7968742533750808\n",
      "[-1.27001618e-03  2.76092946e+00  3.02488107e+00 -1.52771741e+00\n",
      "  8.60165176e+01 -5.45179028e+01 -6.12776350e-02  3.48303879e-01\n",
      "  7.08594402e-02  6.60831014e+00 -3.58608518e-01 -1.47700448e+01\n",
      "  6.50171030e-01 -1.23072700e+00  7.73915197e-01  4.20589466e+00\n",
      "  9.80992922e+01 -4.94566764e-01  2.01724801e-02  6.12422671e-02\n",
      " -6.76323780e-01  1.27273839e+00]\n"
     ]
    }
   ],
   "source": [
    "linear_regression=LinearRegression()\n",
    "linear_regression.fit(x_train,y_train)\n",
    "print (linear_regression.intercept_)\n",
    "print(linear_regression.coef_)"
   ]
  },
  {
   "cell_type": "code",
   "execution_count": 374,
   "metadata": {},
   "outputs": [
    {
     "data": {
      "text/plain": [
       "array([ 4.25861563e+00,  8.89863674e+00,  3.49636766e+00,  6.82422710e+00,\n",
       "        1.31356560e+00,  4.84635688e+00,  6.20533339e+00,  1.16370226e+00,\n",
       "        3.12385005e+00,  6.06858953e+00,  3.47207789e+00,  7.88328070e+00,\n",
       "        2.66930089e+00,  3.23226160e+00,  2.79736892e+00,  3.42716178e+00,\n",
       "        1.07910325e+01,  6.77093763e+00,  1.47703692e+00,  3.71993020e+00,\n",
       "        8.83478386e+00,  6.28319270e+00,  3.36045911e+00,  7.68532241e+00,\n",
       "        5.62126510e+00,  4.07268563e+00,  1.12315988e+00,  4.06734103e+00,\n",
       "        1.02408349e+01,  5.35189942e+00, -6.40040852e+00,  1.43515070e+00,\n",
       "        2.93941081e+00,  4.79273553e+00,  4.21507594e+00,  3.79208852e+00,\n",
       "        2.59850105e+00,  6.33856801e+00,  5.81997607e+00,  9.60557311e+00,\n",
       "        2.65155668e+00, -5.25113392e+00,  3.17773890e+00,  2.20314955e+00,\n",
       "       -2.73501903e-01,  2.61649208e+00,  5.38654752e+00,  1.54212893e+00,\n",
       "        3.59849038e+00,  1.62686244e+00,  2.28382636e+00,  1.14972431e+00,\n",
       "        1.03859238e+00, -3.26624629e+00,  2.42373272e+00,  4.40649151e-01,\n",
       "        1.33821247e+00,  8.34299485e+00,  5.50200929e+00,  9.09782151e+00,\n",
       "        5.51549392e+00,  1.00834696e+01,  2.08899073e+00,  7.88869282e+00,\n",
       "       -2.00398664e+00,  1.96153570e+00,  9.18339870e-01,  8.85660984e+00,\n",
       "        7.71170572e+00,  3.22918140e+00,  7.44408608e+00,  5.55250023e+00,\n",
       "        8.97428398e+00,  3.36791838e+00,  2.47669098e+00,  3.29351648e+00,\n",
       "        1.71125445e+00,  8.95488370e+00,  3.61424111e+00,  7.78905312e-01,\n",
       "        1.24998869e+01,  2.70010732e+00,  7.89445644e+00,  2.31006075e+00,\n",
       "        6.26017433e+00,  6.96360856e+00, -1.80262178e+00,  8.08025562e+00,\n",
       "        6.35173508e+00,  2.35421291e+00,  9.46607300e+00,  2.67383001e+00,\n",
       "       -1.65753066e+00, -4.60768476e-01,  6.08105548e+00,  2.50256502e+00,\n",
       "       -6.59746456e-02,  7.87413647e+00,  8.69818196e+00,  4.10937731e+00,\n",
       "       -5.49331236e+00, -1.86183806e-01,  5.34161397e+00,  4.02634916e+00,\n",
       "        7.53545275e+00,  4.05628928e+00,  6.53580552e+00,  3.53154091e+00,\n",
       "       -6.31479757e-01,  2.84263956e+00,  8.23180887e+00, -1.69971890e+00,\n",
       "        7.89317630e+00,  3.61942227e-03,  6.44328208e+00,  1.54890322e+00,\n",
       "       -1.70838981e+00,  7.32742784e+00,  5.83817161e+00,  4.16795619e+00,\n",
       "        4.86741872e+00,  5.71051552e+00])"
      ]
     },
     "execution_count": 374,
     "metadata": {},
     "output_type": "execute_result"
    }
   ],
   "source": [
    "y_pred_linear=linear_regression.predict(x_test)\n",
    "y_pred_linear"
   ]
  },
  {
   "cell_type": "code",
   "execution_count": 375,
   "metadata": {},
   "outputs": [
    {
     "data": {
      "text/html": [
       "<div>\n",
       "<style scoped>\n",
       "    .dataframe tbody tr th:only-of-type {\n",
       "        vertical-align: middle;\n",
       "    }\n",
       "\n",
       "    .dataframe tbody tr th {\n",
       "        vertical-align: top;\n",
       "    }\n",
       "\n",
       "    .dataframe thead th {\n",
       "        text-align: right;\n",
       "    }\n",
       "</style>\n",
       "<table border=\"1\" class=\"dataframe\">\n",
       "  <thead>\n",
       "    <tr style=\"text-align: right;\">\n",
       "      <th></th>\n",
       "      <th>actual values</th>\n",
       "      <th>predicted values</th>\n",
       "    </tr>\n",
       "  </thead>\n",
       "  <tbody>\n",
       "    <tr>\n",
       "      <th>163</th>\n",
       "      <td>4.91</td>\n",
       "      <td>4.258616</td>\n",
       "    </tr>\n",
       "    <tr>\n",
       "      <th>202</th>\n",
       "      <td>10.33</td>\n",
       "      <td>8.898637</td>\n",
       "    </tr>\n",
       "    <tr>\n",
       "      <th>170</th>\n",
       "      <td>5.59</td>\n",
       "      <td>3.496368</td>\n",
       "    </tr>\n",
       "    <tr>\n",
       "      <th>283</th>\n",
       "      <td>0.79</td>\n",
       "      <td>6.824227</td>\n",
       "    </tr>\n",
       "    <tr>\n",
       "      <th>39</th>\n",
       "      <td>4.40</td>\n",
       "      <td>1.313566</td>\n",
       "    </tr>\n",
       "    <tr>\n",
       "      <th>...</th>\n",
       "      <td>...</td>\n",
       "      <td>...</td>\n",
       "    </tr>\n",
       "    <tr>\n",
       "      <th>330</th>\n",
       "      <td>4.10</td>\n",
       "      <td>7.327428</td>\n",
       "    </tr>\n",
       "    <tr>\n",
       "      <th>3</th>\n",
       "      <td>3.70</td>\n",
       "      <td>5.838172</td>\n",
       "    </tr>\n",
       "    <tr>\n",
       "      <th>443</th>\n",
       "      <td>0.53</td>\n",
       "      <td>4.167956</td>\n",
       "    </tr>\n",
       "    <tr>\n",
       "      <th>67</th>\n",
       "      <td>7.01</td>\n",
       "      <td>4.867419</td>\n",
       "    </tr>\n",
       "    <tr>\n",
       "      <th>130</th>\n",
       "      <td>3.58</td>\n",
       "      <td>5.710516</td>\n",
       "    </tr>\n",
       "  </tbody>\n",
       "</table>\n",
       "<p>122 rows × 2 columns</p>\n",
       "</div>"
      ],
      "text/plain": [
       "     actual values  predicted values\n",
       "163           4.91          4.258616\n",
       "202          10.33          8.898637\n",
       "170           5.59          3.496368\n",
       "283           0.79          6.824227\n",
       "39            4.40          1.313566\n",
       "..             ...               ...\n",
       "330           4.10          7.327428\n",
       "3             3.70          5.838172\n",
       "443           0.53          4.167956\n",
       "67            7.01          4.867419\n",
       "130           3.58          5.710516\n",
       "\n",
       "[122 rows x 2 columns]"
      ]
     },
     "execution_count": 375,
     "metadata": {},
     "output_type": "execute_result"
    }
   ],
   "source": [
    "linear_comparison=pd.DataFrame({\"actual values\":y_test,\"predicted values\":y_pred_linear})\n",
    "linear_comparison"
   ]
  },
  {
   "cell_type": "code",
   "execution_count": 376,
   "metadata": {},
   "outputs": [
    {
     "data": {
      "text/plain": [
       "('Mean_absolute_error: 2.643665941070181',\n",
       " 'Mean_squared_error: 11.556873664195269',\n",
       " 'r2 score: 0.21919953704167827')"
      ]
     },
     "execution_count": 376,
     "metadata": {},
     "output_type": "execute_result"
    }
   ],
   "source": [
    "#check accuracy\n",
    "\n",
    "error_matrics(y_test,y_pred_linear)"
   ]
  },
  {
   "cell_type": "markdown",
   "metadata": {},
   "source": [
    "### We can see that the linear regression model dosent actually perform very good in predicting the TCL value taking in the values of the training set. It gives a r2 score value of 0.219 that is round about 22% of prediction efficiency"
   ]
  },
  {
   "cell_type": "code",
   "execution_count": 377,
   "metadata": {},
   "outputs": [
    {
     "data": {
      "text/html": [
       "<div>\n",
       "<style scoped>\n",
       "    .dataframe tbody tr th:only-of-type {\n",
       "        vertical-align: middle;\n",
       "    }\n",
       "\n",
       "    .dataframe tbody tr th {\n",
       "        vertical-align: top;\n",
       "    }\n",
       "\n",
       "    .dataframe thead th {\n",
       "        text-align: right;\n",
       "    }\n",
       "</style>\n",
       "<table border=\"1\" class=\"dataframe\">\n",
       "  <thead>\n",
       "    <tr style=\"text-align: right;\">\n",
       "      <th></th>\n",
       "      <th>actual values</th>\n",
       "      <th>predicted values</th>\n",
       "      <th>diff</th>\n",
       "    </tr>\n",
       "  </thead>\n",
       "  <tbody>\n",
       "    <tr>\n",
       "      <th>163</th>\n",
       "      <td>4.91</td>\n",
       "      <td>4.258616</td>\n",
       "      <td>0.651384</td>\n",
       "    </tr>\n",
       "    <tr>\n",
       "      <th>202</th>\n",
       "      <td>10.33</td>\n",
       "      <td>8.898637</td>\n",
       "      <td>1.431363</td>\n",
       "    </tr>\n",
       "    <tr>\n",
       "      <th>170</th>\n",
       "      <td>5.59</td>\n",
       "      <td>3.496368</td>\n",
       "      <td>2.093632</td>\n",
       "    </tr>\n",
       "    <tr>\n",
       "      <th>283</th>\n",
       "      <td>0.79</td>\n",
       "      <td>6.824227</td>\n",
       "      <td>6.034227</td>\n",
       "    </tr>\n",
       "    <tr>\n",
       "      <th>39</th>\n",
       "      <td>4.40</td>\n",
       "      <td>1.313566</td>\n",
       "      <td>3.086434</td>\n",
       "    </tr>\n",
       "    <tr>\n",
       "      <th>119</th>\n",
       "      <td>1.12</td>\n",
       "      <td>4.846357</td>\n",
       "      <td>3.726357</td>\n",
       "    </tr>\n",
       "  </tbody>\n",
       "</table>\n",
       "</div>"
      ],
      "text/plain": [
       "     actual values  predicted values      diff\n",
       "163           4.91          4.258616  0.651384\n",
       "202          10.33          8.898637  1.431363\n",
       "170           5.59          3.496368  2.093632\n",
       "283           0.79          6.824227  6.034227\n",
       "39            4.40          1.313566  3.086434\n",
       "119           1.12          4.846357  3.726357"
      ]
     },
     "execution_count": 377,
     "metadata": {},
     "output_type": "execute_result"
    }
   ],
   "source": [
    "#check accuracy -- otehr way\n",
    "\n",
    "linear_comparison[\"diff\"]=np.abs(linear_comparison[\"actual values\"]-linear_comparison[\"predicted values\"])\n",
    "linear_comparison.head(6)"
   ]
  },
  {
   "cell_type": "code",
   "execution_count": 378,
   "metadata": {},
   "outputs": [
    {
     "data": {
      "text/html": [
       "<div>\n",
       "<style scoped>\n",
       "    .dataframe tbody tr th:only-of-type {\n",
       "        vertical-align: middle;\n",
       "    }\n",
       "\n",
       "    .dataframe tbody tr th {\n",
       "        vertical-align: top;\n",
       "    }\n",
       "\n",
       "    .dataframe thead th {\n",
       "        text-align: right;\n",
       "    }\n",
       "</style>\n",
       "<table border=\"1\" class=\"dataframe\">\n",
       "  <thead>\n",
       "    <tr style=\"text-align: right;\">\n",
       "      <th></th>\n",
       "      <th>actual values</th>\n",
       "      <th>predicted values</th>\n",
       "      <th>diff</th>\n",
       "      <th>diffmax_0.5</th>\n",
       "      <th>diffmax_1</th>\n",
       "    </tr>\n",
       "  </thead>\n",
       "  <tbody>\n",
       "    <tr>\n",
       "      <th>163</th>\n",
       "      <td>4.91</td>\n",
       "      <td>4.258616</td>\n",
       "      <td>0.651384</td>\n",
       "      <td>no</td>\n",
       "      <td>yes</td>\n",
       "    </tr>\n",
       "    <tr>\n",
       "      <th>202</th>\n",
       "      <td>10.33</td>\n",
       "      <td>8.898637</td>\n",
       "      <td>1.431363</td>\n",
       "      <td>no</td>\n",
       "      <td>no</td>\n",
       "    </tr>\n",
       "    <tr>\n",
       "      <th>170</th>\n",
       "      <td>5.59</td>\n",
       "      <td>3.496368</td>\n",
       "      <td>2.093632</td>\n",
       "      <td>no</td>\n",
       "      <td>no</td>\n",
       "    </tr>\n",
       "    <tr>\n",
       "      <th>283</th>\n",
       "      <td>0.79</td>\n",
       "      <td>6.824227</td>\n",
       "      <td>6.034227</td>\n",
       "      <td>no</td>\n",
       "      <td>no</td>\n",
       "    </tr>\n",
       "    <tr>\n",
       "      <th>39</th>\n",
       "      <td>4.40</td>\n",
       "      <td>1.313566</td>\n",
       "      <td>3.086434</td>\n",
       "      <td>no</td>\n",
       "      <td>no</td>\n",
       "    </tr>\n",
       "    <tr>\n",
       "      <th>...</th>\n",
       "      <td>...</td>\n",
       "      <td>...</td>\n",
       "      <td>...</td>\n",
       "      <td>...</td>\n",
       "      <td>...</td>\n",
       "    </tr>\n",
       "    <tr>\n",
       "      <th>330</th>\n",
       "      <td>4.10</td>\n",
       "      <td>7.327428</td>\n",
       "      <td>3.227428</td>\n",
       "      <td>no</td>\n",
       "      <td>no</td>\n",
       "    </tr>\n",
       "    <tr>\n",
       "      <th>3</th>\n",
       "      <td>3.70</td>\n",
       "      <td>5.838172</td>\n",
       "      <td>2.138172</td>\n",
       "      <td>no</td>\n",
       "      <td>no</td>\n",
       "    </tr>\n",
       "    <tr>\n",
       "      <th>443</th>\n",
       "      <td>0.53</td>\n",
       "      <td>4.167956</td>\n",
       "      <td>3.637956</td>\n",
       "      <td>no</td>\n",
       "      <td>no</td>\n",
       "    </tr>\n",
       "    <tr>\n",
       "      <th>67</th>\n",
       "      <td>7.01</td>\n",
       "      <td>4.867419</td>\n",
       "      <td>2.142581</td>\n",
       "      <td>no</td>\n",
       "      <td>no</td>\n",
       "    </tr>\n",
       "    <tr>\n",
       "      <th>130</th>\n",
       "      <td>3.58</td>\n",
       "      <td>5.710516</td>\n",
       "      <td>2.130516</td>\n",
       "      <td>no</td>\n",
       "      <td>no</td>\n",
       "    </tr>\n",
       "  </tbody>\n",
       "</table>\n",
       "<p>122 rows × 5 columns</p>\n",
       "</div>"
      ],
      "text/plain": [
       "     actual values  predicted values      diff diffmax_0.5 diffmax_1\n",
       "163           4.91          4.258616  0.651384          no       yes\n",
       "202          10.33          8.898637  1.431363          no        no\n",
       "170           5.59          3.496368  2.093632          no        no\n",
       "283           0.79          6.824227  6.034227          no        no\n",
       "39            4.40          1.313566  3.086434          no        no\n",
       "..             ...               ...       ...         ...       ...\n",
       "330           4.10          7.327428  3.227428          no        no\n",
       "3             3.70          5.838172  2.138172          no        no\n",
       "443           0.53          4.167956  3.637956          no        no\n",
       "67            7.01          4.867419  2.142581          no        no\n",
       "130           3.58          5.710516  2.130516          no        no\n",
       "\n",
       "[122 rows x 5 columns]"
      ]
     },
     "execution_count": 378,
     "metadata": {},
     "output_type": "execute_result"
    }
   ],
   "source": [
    "linear_comparison[\"diffmax_0.5\"]=[\"yes\" if x<=0.5 else \"no\" for x in linear_comparison[\"diff\"]]\n",
    "\n",
    "linear_comparison[\"diffmax_1\"]=[\"yes\" if x<=1 else \"no\" for x in linear_comparison[\"diff\"]]\n",
    "\n",
    "linear_comparison"
   ]
  },
  {
   "cell_type": "code",
   "execution_count": 379,
   "metadata": {},
   "outputs": [
    {
     "data": {
      "text/plain": [
       "no     108\n",
       "yes     14\n",
       "Name: diffmax_0.5, dtype: int64"
      ]
     },
     "execution_count": 379,
     "metadata": {},
     "output_type": "execute_result"
    }
   ],
   "source": [
    "linear_comparison[\"diffmax_0.5\"].value_counts()"
   ]
  },
  {
   "cell_type": "code",
   "execution_count": 380,
   "metadata": {},
   "outputs": [
    {
     "data": {
      "text/plain": [
       "actual values       0.114754\n",
       "predicted values    0.114754\n",
       "diff                0.114754\n",
       "diffmax_0.5         0.114754\n",
       "diffmax_1           0.114754\n",
       "dtype: float64"
      ]
     },
     "execution_count": 380,
     "metadata": {},
     "output_type": "execute_result"
    }
   ],
   "source": [
    "# accuracy\n",
    "14/linear_comparison.count()\n",
    "\n",
    "#accuracy of about 11% --very bad"
   ]
  },
  {
   "cell_type": "code",
   "execution_count": 381,
   "metadata": {},
   "outputs": [
    {
     "data": {
      "text/plain": [
       "no     92\n",
       "yes    30\n",
       "Name: diffmax_1, dtype: int64"
      ]
     },
     "execution_count": 381,
     "metadata": {},
     "output_type": "execute_result"
    }
   ],
   "source": [
    "linear_comparison[\"diffmax_1\"].value_counts()"
   ]
  },
  {
   "cell_type": "code",
   "execution_count": 382,
   "metadata": {},
   "outputs": [
    {
     "data": {
      "text/plain": [
       "actual values       0.245902\n",
       "predicted values    0.245902\n",
       "diff                0.245902\n",
       "diffmax_0.5         0.245902\n",
       "diffmax_1           0.245902\n",
       "dtype: float64"
      ]
     },
     "execution_count": 382,
     "metadata": {},
     "output_type": "execute_result"
    }
   ],
   "source": [
    "# accuracy\n",
    "30/linear_comparison.count()\n",
    "\n",
    "#accuracy of about 24% --very bad"
   ]
  },
  {
   "cell_type": "markdown",
   "metadata": {},
   "source": [
    "### We can see that the linear regression model dosent actually perform very good in predicting the TCL value taking in the values of the training set. It gives a r2 score value of 0.245 that is round about 24% of prediction efficiency"
   ]
  },
  {
   "cell_type": "code",
   "execution_count": 383,
   "metadata": {},
   "outputs": [
    {
     "name": "stdout",
     "output_type": "stream",
     "text": [
      "                                 OLS Regression Results                                \n",
      "=======================================================================================\n",
      "Dep. Variable:                    TCL   R-squared (uncentered):                   0.777\n",
      "Model:                            OLS   Adj. R-squared (uncentered):              0.759\n",
      "Method:                 Least Squares   F-statistic:                              41.44\n",
      "Date:                Tue, 03 Aug 2021   Prob (F-statistic):                    3.45e-72\n",
      "Time:                        12:00:48   Log-Likelihood:                         -714.21\n",
      "No. Observations:                 283   AIC:                                      1472.\n",
      "Df Residuals:                     261   BIC:                                      1553.\n",
      "Df Model:                          22                                                  \n",
      "Covariance Type:            nonrobust                                                  \n",
      "==============================================================================\n",
      "                 coef    std err          t      P>|t|      [0.025      0.975]\n",
      "------------------------------------------------------------------------------\n",
      "No.           -0.0028      0.003     -1.105      0.270      -0.008       0.002\n",
      "C              3.4478      3.901      0.884      0.378      -4.234      11.130\n",
      "Si             2.9917      0.556      5.377      0.000       1.896       4.087\n",
      "Mn            -1.5705      0.316     -4.974      0.000      -2.192      -0.949\n",
      "P             76.5802     24.342      3.146      0.002      28.649     124.511\n",
      "S            -53.1378     36.272     -1.465      0.144    -124.560      18.285\n",
      "Cr            -0.0992      0.094     -1.052      0.294      -0.285       0.086\n",
      "Ni             0.3445      0.044      7.855      0.000       0.258       0.431\n",
      "Mo             0.0465      0.225      0.206      0.837      -0.397       0.490\n",
      "N              6.4416      4.778      1.348      0.179      -2.967      15.850\n",
      "Nb            -0.4987      1.303     -0.383      0.702      -3.065       2.067\n",
      "Co           -15.0881      5.758     -2.620      0.009     -26.426      -3.750\n",
      "Cu             0.6791      0.382      1.778      0.076      -0.073       1.431\n",
      "Al            -1.6537      2.218     -0.746      0.457      -6.021       2.714\n",
      "Ti             0.3194      1.324      0.241      0.810      -2.287       2.925\n",
      "V              4.5376      1.794      2.529      0.012       1.004       8.071\n",
      "B             98.0075    155.514      0.630      0.529    -208.213     404.228\n",
      "Th            -0.6696      0.285     -2.351      0.019      -1.230      -0.109\n",
      "I              0.0251      0.009      2.751      0.006       0.007       0.043\n",
      "U              0.0589      0.169      0.349      0.728      -0.274       0.391\n",
      "Ve            -1.0241      0.416     -2.464      0.014      -1.843      -0.206\n",
      "Strain         1.2442      0.155      8.028      0.000       0.939       1.549\n",
      "==============================================================================\n",
      "Omnibus:                       39.151   Durbin-Watson:                   2.108\n",
      "Prob(Omnibus):                  0.000   Jarque-Bera (JB):               62.131\n",
      "Skew:                           0.820   Prob(JB):                     3.22e-14\n",
      "Kurtosis:                       4.607   Cond. No.                     2.54e+05\n",
      "==============================================================================\n",
      "\n",
      "Notes:\n",
      "[1] R² is computed without centering (uncentered) since the model does not contain a constant.\n",
      "[2] Standard Errors assume that the covariance matrix of the errors is correctly specified.\n",
      "[3] The condition number is large, 2.54e+05. This might indicate that there are\n",
      "strong multicollinearity or other numerical problems.\n"
     ]
    }
   ],
   "source": [
    "# statsmodels version--linear regression\n",
    "\n",
    "model_linear=sm.OLS(y_train,x_train)\n",
    "linear_statsmodel= model_linear.fit()\n",
    "\n",
    "print(linear_statsmodel.summary())"
   ]
  },
  {
   "cell_type": "markdown",
   "metadata": {},
   "source": [
    "### Ridge Regression"
   ]
  },
  {
   "cell_type": "code",
   "execution_count": 384,
   "metadata": {},
   "outputs": [],
   "source": [
    "# alpha is the regularixzation \n",
    "#we also have cross validation built in\n",
    "\n",
    "#common alpha for ridge \n",
    "alphas=[.01,.1,1,10,100,1000,10000]\n"
   ]
  },
  {
   "cell_type": "code",
   "execution_count": 385,
   "metadata": {},
   "outputs": [],
   "source": [
    "ridge=RidgeCV(alphas=alphas,cv=5)\n",
    "ridge_fit=ridge.fit(x_train,y_train)"
   ]
  },
  {
   "cell_type": "code",
   "execution_count": 386,
   "metadata": {},
   "outputs": [
    {
     "data": {
      "text/plain": [
       "('Mean_absolute_error: 2.6253181195529915',\n",
       " 'Mean_squared_error: 11.584380134941656',\n",
       " 'r2 score: 0.2173411568501853')"
      ]
     },
     "execution_count": 386,
     "metadata": {},
     "output_type": "execute_result"
    }
   ],
   "source": [
    "yhat_ridge=ridge_fit.predict(x_test)\n",
    "error_matrics(y_test,yhat_ridge)"
   ]
  },
  {
   "cell_type": "markdown",
   "metadata": {},
   "source": [
    "### We can see that the ridge regression model dosent actually perform very good in predicting the TCL value taking in the values of the training set. It gives a r2 score value of 0.219 that is round about 22% of prediction efficiency ,pretty much same with the linear regression"
   ]
  },
  {
   "cell_type": "markdown",
   "metadata": {},
   "source": [
    "### lasso regression --least absolute shrinkage in singular operator"
   ]
  },
  {
   "cell_type": "code",
   "execution_count": 387,
   "metadata": {},
   "outputs": [],
   "source": [
    "lasso=LassoCV(cv=5,random_state=32,alphas=alphas)\n",
    "lasso_fit=lasso.fit(x_train,y_train)"
   ]
  },
  {
   "cell_type": "code",
   "execution_count": 388,
   "metadata": {},
   "outputs": [
    {
     "data": {
      "text/plain": [
       "('Mean_absolute_error: 2.567047193154057',\n",
       " 'Mean_squared_error: 11.447796960360781',\n",
       " 'r2 score: 0.22656892977942134')"
      ]
     },
     "execution_count": 388,
     "metadata": {},
     "output_type": "execute_result"
    }
   ],
   "source": [
    "yhat_lasso=lasso_fit.predict(x_test)\n",
    "error_matrics(y_test,yhat_lasso)"
   ]
  },
  {
   "cell_type": "code",
   "execution_count": 389,
   "metadata": {},
   "outputs": [
    {
     "data": {
      "text/plain": [
       "('Mean_absolute_error: 2.6253181195529915',\n",
       " 'Mean_squared_error: 11.584380134941656',\n",
       " 'r2 score: 0.2173411568501853')"
      ]
     },
     "execution_count": 389,
     "metadata": {},
     "output_type": "execute_result"
    }
   ],
   "source": [
    "yhat_ridge=ridge_fit.predict(x_test)\n",
    "error_matrics(y_test,yhat_ridge)"
   ]
  },
  {
   "cell_type": "markdown",
   "metadata": {},
   "source": [
    "### We can see that the Lasso regression model dosent actually perform very good in predicting the TCL value taking in the values of the training set. It gives a r2 score value of 0.217that is round about 22% of prediction efficiency"
   ]
  },
  {
   "cell_type": "code",
   "execution_count": 390,
   "metadata": {},
   "outputs": [
    {
     "data": {
      "text/html": [
       "<div>\n",
       "<style scoped>\n",
       "    .dataframe tbody tr th:only-of-type {\n",
       "        vertical-align: middle;\n",
       "    }\n",
       "\n",
       "    .dataframe tbody tr th {\n",
       "        vertical-align: top;\n",
       "    }\n",
       "\n",
       "    .dataframe thead th {\n",
       "        text-align: right;\n",
       "    }\n",
       "</style>\n",
       "<table border=\"1\" class=\"dataframe\">\n",
       "  <thead>\n",
       "    <tr style=\"text-align: right;\">\n",
       "      <th></th>\n",
       "      <th>actual</th>\n",
       "      <th>lasso pred</th>\n",
       "      <th>ridge pred</th>\n",
       "    </tr>\n",
       "  </thead>\n",
       "  <tbody>\n",
       "    <tr>\n",
       "      <th>163</th>\n",
       "      <td>4.91</td>\n",
       "      <td>4.510389</td>\n",
       "      <td>4.096894</td>\n",
       "    </tr>\n",
       "    <tr>\n",
       "      <th>202</th>\n",
       "      <td>10.33</td>\n",
       "      <td>8.635382</td>\n",
       "      <td>8.755459</td>\n",
       "    </tr>\n",
       "    <tr>\n",
       "      <th>170</th>\n",
       "      <td>5.59</td>\n",
       "      <td>2.199926</td>\n",
       "      <td>2.793881</td>\n",
       "    </tr>\n",
       "    <tr>\n",
       "      <th>283</th>\n",
       "      <td>0.79</td>\n",
       "      <td>5.712481</td>\n",
       "      <td>6.743646</td>\n",
       "    </tr>\n",
       "    <tr>\n",
       "      <th>39</th>\n",
       "      <td>4.40</td>\n",
       "      <td>3.061514</td>\n",
       "      <td>1.896268</td>\n",
       "    </tr>\n",
       "    <tr>\n",
       "      <th>...</th>\n",
       "      <td>...</td>\n",
       "      <td>...</td>\n",
       "      <td>...</td>\n",
       "    </tr>\n",
       "    <tr>\n",
       "      <th>330</th>\n",
       "      <td>4.10</td>\n",
       "      <td>7.026259</td>\n",
       "      <td>7.342640</td>\n",
       "    </tr>\n",
       "    <tr>\n",
       "      <th>3</th>\n",
       "      <td>3.70</td>\n",
       "      <td>5.330121</td>\n",
       "      <td>5.795250</td>\n",
       "    </tr>\n",
       "    <tr>\n",
       "      <th>443</th>\n",
       "      <td>0.53</td>\n",
       "      <td>5.958755</td>\n",
       "      <td>4.716050</td>\n",
       "    </tr>\n",
       "    <tr>\n",
       "      <th>67</th>\n",
       "      <td>7.01</td>\n",
       "      <td>4.199122</td>\n",
       "      <td>4.949243</td>\n",
       "    </tr>\n",
       "    <tr>\n",
       "      <th>130</th>\n",
       "      <td>3.58</td>\n",
       "      <td>5.953855</td>\n",
       "      <td>5.944199</td>\n",
       "    </tr>\n",
       "  </tbody>\n",
       "</table>\n",
       "<p>122 rows × 3 columns</p>\n",
       "</div>"
      ],
      "text/plain": [
       "     actual  lasso pred  ridge pred\n",
       "163    4.91    4.510389    4.096894\n",
       "202   10.33    8.635382    8.755459\n",
       "170    5.59    2.199926    2.793881\n",
       "283    0.79    5.712481    6.743646\n",
       "39     4.40    3.061514    1.896268\n",
       "..      ...         ...         ...\n",
       "330    4.10    7.026259    7.342640\n",
       "3      3.70    5.330121    5.795250\n",
       "443    0.53    5.958755    4.716050\n",
       "67     7.01    4.199122    4.949243\n",
       "130    3.58    5.953855    5.944199\n",
       "\n",
       "[122 rows x 3 columns]"
      ]
     },
     "execution_count": 390,
     "metadata": {},
     "output_type": "execute_result"
    }
   ],
   "source": [
    "#comparison\n",
    "lasso_ridge_comp=pd.DataFrame({\"actual\":y_test,\"lasso pred\":yhat_lasso,\"ridge pred\":yhat_ridge})\n",
    "\n",
    "lasso_ridge_comp"
   ]
  },
  {
   "cell_type": "markdown",
   "metadata": {},
   "source": [
    "### we check the frequency of the difference in the true value and the predicted value for some measures of error . The error measured is absolute error.We check for the absolute error of 0.5 and 1 in the prediction of the TCL values and check the frequency of yes and no"
   ]
  },
  {
   "cell_type": "code",
   "execution_count": 391,
   "metadata": {},
   "outputs": [
    {
     "data": {
      "text/html": [
       "<div>\n",
       "<style scoped>\n",
       "    .dataframe tbody tr th:only-of-type {\n",
       "        vertical-align: middle;\n",
       "    }\n",
       "\n",
       "    .dataframe tbody tr th {\n",
       "        vertical-align: top;\n",
       "    }\n",
       "\n",
       "    .dataframe thead th {\n",
       "        text-align: right;\n",
       "    }\n",
       "</style>\n",
       "<table border=\"1\" class=\"dataframe\">\n",
       "  <thead>\n",
       "    <tr style=\"text-align: right;\">\n",
       "      <th></th>\n",
       "      <th>actual</th>\n",
       "      <th>lasso pred</th>\n",
       "      <th>ridge pred</th>\n",
       "      <th>diff</th>\n",
       "      <th>diffmax_0.5</th>\n",
       "      <th>diffmax_1</th>\n",
       "    </tr>\n",
       "  </thead>\n",
       "  <tbody>\n",
       "    <tr>\n",
       "      <th>163</th>\n",
       "      <td>4.91</td>\n",
       "      <td>4.510389</td>\n",
       "      <td>4.096894</td>\n",
       "      <td>0.413495</td>\n",
       "      <td>yes</td>\n",
       "      <td>yes</td>\n",
       "    </tr>\n",
       "    <tr>\n",
       "      <th>202</th>\n",
       "      <td>10.33</td>\n",
       "      <td>8.635382</td>\n",
       "      <td>8.755459</td>\n",
       "      <td>0.120078</td>\n",
       "      <td>yes</td>\n",
       "      <td>yes</td>\n",
       "    </tr>\n",
       "    <tr>\n",
       "      <th>170</th>\n",
       "      <td>5.59</td>\n",
       "      <td>2.199926</td>\n",
       "      <td>2.793881</td>\n",
       "      <td>0.593956</td>\n",
       "      <td>no</td>\n",
       "      <td>yes</td>\n",
       "    </tr>\n",
       "    <tr>\n",
       "      <th>283</th>\n",
       "      <td>0.79</td>\n",
       "      <td>5.712481</td>\n",
       "      <td>6.743646</td>\n",
       "      <td>1.031165</td>\n",
       "      <td>no</td>\n",
       "      <td>no</td>\n",
       "    </tr>\n",
       "    <tr>\n",
       "      <th>39</th>\n",
       "      <td>4.40</td>\n",
       "      <td>3.061514</td>\n",
       "      <td>1.896268</td>\n",
       "      <td>1.165246</td>\n",
       "      <td>no</td>\n",
       "      <td>no</td>\n",
       "    </tr>\n",
       "    <tr>\n",
       "      <th>...</th>\n",
       "      <td>...</td>\n",
       "      <td>...</td>\n",
       "      <td>...</td>\n",
       "      <td>...</td>\n",
       "      <td>...</td>\n",
       "      <td>...</td>\n",
       "    </tr>\n",
       "    <tr>\n",
       "      <th>330</th>\n",
       "      <td>4.10</td>\n",
       "      <td>7.026259</td>\n",
       "      <td>7.342640</td>\n",
       "      <td>0.316381</td>\n",
       "      <td>yes</td>\n",
       "      <td>yes</td>\n",
       "    </tr>\n",
       "    <tr>\n",
       "      <th>3</th>\n",
       "      <td>3.70</td>\n",
       "      <td>5.330121</td>\n",
       "      <td>5.795250</td>\n",
       "      <td>0.465130</td>\n",
       "      <td>yes</td>\n",
       "      <td>yes</td>\n",
       "    </tr>\n",
       "    <tr>\n",
       "      <th>443</th>\n",
       "      <td>0.53</td>\n",
       "      <td>5.958755</td>\n",
       "      <td>4.716050</td>\n",
       "      <td>1.242705</td>\n",
       "      <td>no</td>\n",
       "      <td>no</td>\n",
       "    </tr>\n",
       "    <tr>\n",
       "      <th>67</th>\n",
       "      <td>7.01</td>\n",
       "      <td>4.199122</td>\n",
       "      <td>4.949243</td>\n",
       "      <td>0.750121</td>\n",
       "      <td>no</td>\n",
       "      <td>yes</td>\n",
       "    </tr>\n",
       "    <tr>\n",
       "      <th>130</th>\n",
       "      <td>3.58</td>\n",
       "      <td>5.953855</td>\n",
       "      <td>5.944199</td>\n",
       "      <td>0.009656</td>\n",
       "      <td>yes</td>\n",
       "      <td>yes</td>\n",
       "    </tr>\n",
       "  </tbody>\n",
       "</table>\n",
       "<p>122 rows × 6 columns</p>\n",
       "</div>"
      ],
      "text/plain": [
       "     actual  lasso pred  ridge pred      diff diffmax_0.5 diffmax_1\n",
       "163    4.91    4.510389    4.096894  0.413495         yes       yes\n",
       "202   10.33    8.635382    8.755459  0.120078         yes       yes\n",
       "170    5.59    2.199926    2.793881  0.593956          no       yes\n",
       "283    0.79    5.712481    6.743646  1.031165          no        no\n",
       "39     4.40    3.061514    1.896268  1.165246          no        no\n",
       "..      ...         ...         ...       ...         ...       ...\n",
       "330    4.10    7.026259    7.342640  0.316381         yes       yes\n",
       "3      3.70    5.330121    5.795250  0.465130         yes       yes\n",
       "443    0.53    5.958755    4.716050  1.242705          no        no\n",
       "67     7.01    4.199122    4.949243  0.750121          no       yes\n",
       "130    3.58    5.953855    5.944199  0.009656         yes       yes\n",
       "\n",
       "[122 rows x 6 columns]"
      ]
     },
     "execution_count": 391,
     "metadata": {},
     "output_type": "execute_result"
    }
   ],
   "source": [
    "lasso_ridge_comp[\"diff\"]=np.abs(lasso_ridge_comp[\"lasso pred\"]-lasso_ridge_comp[\"ridge pred\"])\n",
    "\n",
    "lasso_ridge_comp[\"diffmax_0.5\"]=[\"yes\" if x<=0.5 else \"no\" for x in lasso_ridge_comp[\"diff\"]]\n",
    "\n",
    "lasso_ridge_comp[\"diffmax_1\"]=[\"yes\" if x<=1 else \"no\" for x in lasso_ridge_comp[\"diff\"]]\n",
    "\n",
    "lasso_ridge_comp"
   ]
  },
  {
   "cell_type": "code",
   "execution_count": 392,
   "metadata": {},
   "outputs": [
    {
     "data": {
      "text/plain": [
       "yes    70\n",
       "no     52\n",
       "Name: diffmax_0.5, dtype: int64"
      ]
     },
     "execution_count": 392,
     "metadata": {},
     "output_type": "execute_result"
    }
   ],
   "source": [
    "lasso_ridge_comp[\"diffmax_0.5\"].value_counts()"
   ]
  },
  {
   "cell_type": "markdown",
   "metadata": {},
   "source": [
    "### Gives about 58.3% of efficient prediction with 0.5 absolute error to be considered"
   ]
  },
  {
   "cell_type": "markdown",
   "metadata": {},
   "source": [
    "### Then we check the diffrence in the predicted values of the ridge regression and the lasso regression and check the difference in the values"
   ]
  },
  {
   "cell_type": "code",
   "execution_count": 393,
   "metadata": {},
   "outputs": [
    {
     "data": {
      "text/html": [
       "<div>\n",
       "<style scoped>\n",
       "    .dataframe tbody tr th:only-of-type {\n",
       "        vertical-align: middle;\n",
       "    }\n",
       "\n",
       "    .dataframe tbody tr th {\n",
       "        vertical-align: top;\n",
       "    }\n",
       "\n",
       "    .dataframe thead th {\n",
       "        text-align: right;\n",
       "    }\n",
       "</style>\n",
       "<table border=\"1\" class=\"dataframe\">\n",
       "  <thead>\n",
       "    <tr style=\"text-align: right;\">\n",
       "      <th></th>\n",
       "      <th>actual</th>\n",
       "      <th>lasso pred</th>\n",
       "      <th>ridge pred</th>\n",
       "      <th>diff</th>\n",
       "    </tr>\n",
       "  </thead>\n",
       "  <tbody>\n",
       "    <tr>\n",
       "      <th>count</th>\n",
       "      <td>122.000000</td>\n",
       "      <td>122.000000</td>\n",
       "      <td>122.000000</td>\n",
       "      <td>122.000000</td>\n",
       "    </tr>\n",
       "    <tr>\n",
       "      <th>mean</th>\n",
       "      <td>4.378852</td>\n",
       "      <td>4.055524</td>\n",
       "      <td>4.033979</td>\n",
       "      <td>0.505245</td>\n",
       "    </tr>\n",
       "    <tr>\n",
       "      <th>std</th>\n",
       "      <td>3.863113</td>\n",
       "      <td>3.310679</td>\n",
       "      <td>3.445794</td>\n",
       "      <td>0.368838</td>\n",
       "    </tr>\n",
       "    <tr>\n",
       "      <th>min</th>\n",
       "      <td>0.010000</td>\n",
       "      <td>-5.147384</td>\n",
       "      <td>-6.085315</td>\n",
       "      <td>0.006274</td>\n",
       "    </tr>\n",
       "    <tr>\n",
       "      <th>25%</th>\n",
       "      <td>1.257500</td>\n",
       "      <td>2.359634</td>\n",
       "      <td>1.961956</td>\n",
       "      <td>0.234373</td>\n",
       "    </tr>\n",
       "    <tr>\n",
       "      <th>50%</th>\n",
       "      <td>3.555000</td>\n",
       "      <td>3.537807</td>\n",
       "      <td>3.644061</td>\n",
       "      <td>0.446676</td>\n",
       "    </tr>\n",
       "    <tr>\n",
       "      <th>75%</th>\n",
       "      <td>6.055000</td>\n",
       "      <td>6.129542</td>\n",
       "      <td>6.270049</td>\n",
       "      <td>0.711230</td>\n",
       "    </tr>\n",
       "    <tr>\n",
       "      <th>max</th>\n",
       "      <td>18.850000</td>\n",
       "      <td>12.075910</td>\n",
       "      <td>12.317542</td>\n",
       "      <td>1.918064</td>\n",
       "    </tr>\n",
       "  </tbody>\n",
       "</table>\n",
       "</div>"
      ],
      "text/plain": [
       "           actual  lasso pred  ridge pred        diff\n",
       "count  122.000000  122.000000  122.000000  122.000000\n",
       "mean     4.378852    4.055524    4.033979    0.505245\n",
       "std      3.863113    3.310679    3.445794    0.368838\n",
       "min      0.010000   -5.147384   -6.085315    0.006274\n",
       "25%      1.257500    2.359634    1.961956    0.234373\n",
       "50%      3.555000    3.537807    3.644061    0.446676\n",
       "75%      6.055000    6.129542    6.270049    0.711230\n",
       "max     18.850000   12.075910   12.317542    1.918064"
      ]
     },
     "execution_count": 393,
     "metadata": {},
     "output_type": "execute_result"
    }
   ],
   "source": [
    "lasso_ridge_comp.describe()"
   ]
  },
  {
   "cell_type": "markdown",
   "metadata": {},
   "source": [
    "### we can see that in average there is not muich of a difference in the prection values of both the models"
   ]
  },
  {
   "cell_type": "markdown",
   "metadata": {},
   "source": [
    "### ElasticNet regression"
   ]
  },
  {
   "cell_type": "code",
   "execution_count": 394,
   "metadata": {},
   "outputs": [],
   "source": [
    "elasticnet=ElasticNetCV(cv=5,random_state=32,l1_ratio=0.7,alphas=alphas)\n",
    "elastic_fit=elasticnet.fit(x_train,y_train)"
   ]
  },
  {
   "cell_type": "code",
   "execution_count": 395,
   "metadata": {},
   "outputs": [
    {
     "data": {
      "text/plain": [
       "('Mean_absolute_error: 2.5787513030779503',\n",
       " 'Mean_squared_error: 11.510812935985154',\n",
       " 'r2 score: 0.22231147189150513')"
      ]
     },
     "execution_count": 395,
     "metadata": {},
     "output_type": "execute_result"
    }
   ],
   "source": [
    "yhat_elasticnet=elastic_fit.predict(x_test)\n",
    "error_matrics(y_test,yhat_elasticnet)"
   ]
  },
  {
   "cell_type": "markdown",
   "metadata": {},
   "source": [
    "### We can see that the elasticnet regression model dosent actually perform very good in predicting the TCL value taking in the values of the training set. It gives a r2 score value of 0.219 that is round about 22% of prediction efficiency"
   ]
  },
  {
   "cell_type": "markdown",
   "metadata": {},
   "source": [
    "#### l1 ratio is directly related to l2 ratio and changing these we can use the ridge and lasso proportionally"
   ]
  },
  {
   "cell_type": "markdown",
   "metadata": {},
   "source": [
    "### Random Forest Regression"
   ]
  },
  {
   "cell_type": "code",
   "execution_count": 396,
   "metadata": {},
   "outputs": [],
   "source": [
    "rf=RandomForestRegressor(n_estimators=100,random_state=32)"
   ]
  },
  {
   "cell_type": "code",
   "execution_count": 397,
   "metadata": {},
   "outputs": [],
   "source": [
    "rf_fit=rf.fit(x_train,y_train)"
   ]
  },
  {
   "cell_type": "code",
   "execution_count": 398,
   "metadata": {},
   "outputs": [
    {
     "data": {
      "text/plain": [
       "('Mean_absolute_error: 1.6072229508196727',\n",
       " 'Mean_squared_error: 5.692322185081972',\n",
       " 'r2 score: 0.6154178087807786')"
      ]
     },
     "execution_count": 398,
     "metadata": {},
     "output_type": "execute_result"
    }
   ],
   "source": [
    "yhat_rf=rf_fit.predict(x_test)\n",
    "error_matrics(y_test,yhat_rf)"
   ]
  },
  {
   "cell_type": "markdown",
   "metadata": {},
   "source": [
    "### We can see that the RF regression model actually perform very good in predicting the TCL value taking in the values of the training set. It gives a r2 score value of 0.615 that is round about 61.5% of prediction efficiency"
   ]
  },
  {
   "cell_type": "code",
   "execution_count": 399,
   "metadata": {},
   "outputs": [
    {
     "data": {
      "text/plain": [
       "('Mean_absolute_error: 1.6386934426229511',\n",
       " 'Mean_squared_error: 5.695014358360657',\n",
       " 'r2 score: 0.6152359213427534')"
      ]
     },
     "execution_count": 399,
     "metadata": {},
     "output_type": "execute_result"
    }
   ],
   "source": [
    "# reducing estimators\n",
    "\n",
    "rf=RandomForestRegressor(n_estimators=50,random_state=32)\n",
    "rf_fit=rf.fit(x_train,y_train)\n",
    "yhat_rf=rf_fit.predict(x_test)\n",
    "error_matrics(y_test,yhat_rf)"
   ]
  },
  {
   "cell_type": "code",
   "execution_count": 400,
   "metadata": {},
   "outputs": [
    {
     "data": {
      "text/plain": [
       "('Mean_absolute_error: 1.805188524590164',\n",
       " 'Mean_squared_error: 6.653817631147541',\n",
       " 'r2 score: 0.5504576723949155')"
      ]
     },
     "execution_count": 400,
     "metadata": {},
     "output_type": "execute_result"
    }
   ],
   "source": [
    "rf=RandomForestRegressor(n_estimators=10,random_state=32)\n",
    "rf_fit=rf.fit(x_train,y_train)\n",
    "yhat_rf=rf_fit.predict(x_test)\n",
    "error_matrics(y_test,yhat_rf)"
   ]
  },
  {
   "cell_type": "code",
   "execution_count": 401,
   "metadata": {},
   "outputs": [
    {
     "data": {
      "text/plain": [
       "('Mean_absolute_error: 1.5771256557377062',\n",
       " 'Mean_squared_error: 5.5133445485893375',\n",
       " 'r2 score: 0.6275098178736517')"
      ]
     },
     "execution_count": 401,
     "metadata": {},
     "output_type": "execute_result"
    }
   ],
   "source": [
    "# increasing estimators\n",
    "rf=RandomForestRegressor(n_estimators=1000,random_state=32)\n",
    "rf_fit=rf.fit(x_train,y_train)\n",
    "yhat_rf=rf_fit.predict(x_test)\n",
    "error_matrics(y_test,yhat_rf)"
   ]
  },
  {
   "cell_type": "code",
   "execution_count": 402,
   "metadata": {},
   "outputs": [
    {
     "data": {
      "text/plain": [
       "('Mean_absolute_error: 1.5787601721311941',\n",
       " 'Mean_squared_error: 5.57626419855158',\n",
       " 'r2 score: 0.6232588678981494')"
      ]
     },
     "execution_count": 402,
     "metadata": {},
     "output_type": "execute_result"
    }
   ],
   "source": [
    "# increasing estimators\n",
    "rf=RandomForestRegressor(n_estimators=10000,random_state=32)\n",
    "rf_fit=rf.fit(x_train,y_train)\n",
    "yhat_rf=rf_fit.predict(x_test)\n",
    "error_matrics(y_test,yhat_rf)"
   ]
  },
  {
   "cell_type": "markdown",
   "metadata": {},
   "source": [
    "### we try to check for the RF regression with varied values of the estimators and we come to a conclusion that the 1000 estimator value gives the higest prediction performace in the Rf regression model"
   ]
  },
  {
   "cell_type": "markdown",
   "metadata": {},
   "source": [
    "### therefore incresing too much no of estimators can result in weaker predictions"
   ]
  },
  {
   "cell_type": "markdown",
   "metadata": {},
   "source": [
    "## Model Compuatation"
   ]
  },
  {
   "cell_type": "markdown",
   "metadata": {},
   "source": [
    "### Rename some things to make more representable& transfareble"
   ]
  },
  {
   "cell_type": "code",
   "execution_count": 403,
   "metadata": {},
   "outputs": [],
   "source": [
    "features=x_train.copy()\n",
    "targets=y_train.copy()"
   ]
  },
  {
   "cell_type": "code",
   "execution_count": 404,
   "metadata": {},
   "outputs": [],
   "source": [
    "models=[ LinearRegression(),RidgeCV(),LassoCV(),ElasticNetCV(),RandomForestRegressor()]\n",
    "CV=10\n",
    "cv_df=pd.DataFrame(index=range(CV*len(models)))\n",
    "entries=[]\n"
   ]
  },
  {
   "cell_type": "code",
   "execution_count": 405,
   "metadata": {},
   "outputs": [],
   "source": [
    "### comparison of the different regression models is done to show which model predicts the best"
   ]
  },
  {
   "cell_type": "code",
   "execution_count": 406,
   "metadata": {},
   "outputs": [],
   "source": [
    "\n",
    "for model in models:\n",
    "    model_name=model.__class__.__name__\n",
    "    accuracies=cross_val_score(model,features,targets,scoring=\"r2\",cv=CV)\n",
    "    for fold_idx,accuracy in enumerate(accuracies):\n",
    "        entries.append((model_name,fold_idx,accuracy))\n",
    "cv_df=pd.DataFrame(entries,columns=[\"model_name\",'fold_idx','r2'])"
   ]
  },
  {
   "cell_type": "code",
   "execution_count": 407,
   "metadata": {},
   "outputs": [
    {
     "data": {
      "text/plain": [
       "(array([-0.2,  0. ,  0.2,  0.4,  0.6,  0.8,  1. ]),\n",
       " [Text(0, 0, ''),\n",
       "  Text(0, 0, ''),\n",
       "  Text(0, 0, ''),\n",
       "  Text(0, 0, ''),\n",
       "  Text(0, 0, ''),\n",
       "  Text(0, 0, ''),\n",
       "  Text(0, 0, '')])"
      ]
     },
     "execution_count": 407,
     "metadata": {},
     "output_type": "execute_result"
    },
    {
     "data": {
      "image/png": "[encoded data removed]",
      "text/plain": [
       "<Figure size 432x288 with 1 Axes>"
      ]
     },
     "metadata": {},
     "output_type": "display_data"
    }
   ],
   "source": [
    "sns.boxplot(x=\"model_name\",y=\"r2\",data=cv_df)\n",
    "sns.stripplot(x=\"model_name\",y=\"r2\",data=cv_df,size=7,jitter=True,edgecolor=\"green\",linewidth=2)\n",
    "plt.title(\"regression model\",fontsize=20)\n",
    "plt.xlabel(\"Rsquared\",fontsize=15)\n",
    "\n",
    "plt.xticks(fontsize=12,rotation=90)\n",
    "plt.yticks(fontsize=12,rotation=0)\n"
   ]
  },
  {
   "cell_type": "markdown",
   "metadata": {},
   "source": [
    "### we can see in the comparitive performance pf the diffreent regression models that the random forest regressor has clearly out performed the rest of the regression models. It has a higer prediction value that is the r2 score and it also has the least bias. Thus we can say among the general models tried out the random forest regressor performs the best"
   ]
  },
  {
   "cell_type": "code",
   "execution_count": 408,
   "metadata": {},
   "outputs": [
    {
     "data": {
      "text/html": [
       "<div>\n",
       "<style scoped>\n",
       "    .dataframe tbody tr th:only-of-type {\n",
       "        vertical-align: middle;\n",
       "    }\n",
       "\n",
       "    .dataframe tbody tr th {\n",
       "        vertical-align: top;\n",
       "    }\n",
       "\n",
       "    .dataframe thead th {\n",
       "        text-align: right;\n",
       "    }\n",
       "</style>\n",
       "<table border=\"1\" class=\"dataframe\">\n",
       "  <thead>\n",
       "    <tr style=\"text-align: right;\">\n",
       "      <th></th>\n",
       "      <th>model_name</th>\n",
       "      <th>fold_idx</th>\n",
       "      <th>r2</th>\n",
       "    </tr>\n",
       "  </thead>\n",
       "  <tbody>\n",
       "    <tr>\n",
       "      <th>0</th>\n",
       "      <td>LinearRegression</td>\n",
       "      <td>0</td>\n",
       "      <td>0.271465</td>\n",
       "    </tr>\n",
       "    <tr>\n",
       "      <th>1</th>\n",
       "      <td>LinearRegression</td>\n",
       "      <td>1</td>\n",
       "      <td>-0.030385</td>\n",
       "    </tr>\n",
       "    <tr>\n",
       "      <th>2</th>\n",
       "      <td>LinearRegression</td>\n",
       "      <td>2</td>\n",
       "      <td>0.542830</td>\n",
       "    </tr>\n",
       "    <tr>\n",
       "      <th>3</th>\n",
       "      <td>LinearRegression</td>\n",
       "      <td>3</td>\n",
       "      <td>0.513693</td>\n",
       "    </tr>\n",
       "    <tr>\n",
       "      <th>4</th>\n",
       "      <td>LinearRegression</td>\n",
       "      <td>4</td>\n",
       "      <td>0.317134</td>\n",
       "    </tr>\n",
       "    <tr>\n",
       "      <th>5</th>\n",
       "      <td>LinearRegression</td>\n",
       "      <td>5</td>\n",
       "      <td>0.408217</td>\n",
       "    </tr>\n",
       "    <tr>\n",
       "      <th>6</th>\n",
       "      <td>LinearRegression</td>\n",
       "      <td>6</td>\n",
       "      <td>0.528634</td>\n",
       "    </tr>\n",
       "    <tr>\n",
       "      <th>7</th>\n",
       "      <td>LinearRegression</td>\n",
       "      <td>7</td>\n",
       "      <td>0.404979</td>\n",
       "    </tr>\n",
       "    <tr>\n",
       "      <th>8</th>\n",
       "      <td>LinearRegression</td>\n",
       "      <td>8</td>\n",
       "      <td>0.404031</td>\n",
       "    </tr>\n",
       "    <tr>\n",
       "      <th>9</th>\n",
       "      <td>LinearRegression</td>\n",
       "      <td>9</td>\n",
       "      <td>0.309987</td>\n",
       "    </tr>\n",
       "  </tbody>\n",
       "</table>\n",
       "</div>"
      ],
      "text/plain": [
       "         model_name  fold_idx        r2\n",
       "0  LinearRegression         0  0.271465\n",
       "1  LinearRegression         1 -0.030385\n",
       "2  LinearRegression         2  0.542830\n",
       "3  LinearRegression         3  0.513693\n",
       "4  LinearRegression         4  0.317134\n",
       "5  LinearRegression         5  0.408217\n",
       "6  LinearRegression         6  0.528634\n",
       "7  LinearRegression         7  0.404979\n",
       "8  LinearRegression         8  0.404031\n",
       "9  LinearRegression         9  0.309987"
      ]
     },
     "execution_count": 408,
     "metadata": {},
     "output_type": "execute_result"
    }
   ],
   "source": [
    "cv_df.head(10)"
   ]
  },
  {
   "cell_type": "code",
   "execution_count": 409,
   "metadata": {},
   "outputs": [
    {
     "data": {
      "text/html": [
       "<div>\n",
       "<style scoped>\n",
       "    .dataframe tbody tr th:only-of-type {\n",
       "        vertical-align: middle;\n",
       "    }\n",
       "\n",
       "    .dataframe tbody tr th {\n",
       "        vertical-align: top;\n",
       "    }\n",
       "\n",
       "    .dataframe thead th {\n",
       "        text-align: right;\n",
       "    }\n",
       "</style>\n",
       "<table border=\"1\" class=\"dataframe\">\n",
       "  <thead>\n",
       "    <tr style=\"text-align: right;\">\n",
       "      <th></th>\n",
       "      <th>model_name</th>\n",
       "      <th>r2</th>\n",
       "    </tr>\n",
       "  </thead>\n",
       "  <tbody>\n",
       "    <tr>\n",
       "      <th>3</th>\n",
       "      <td>RandomForestRegressor</td>\n",
       "      <td>0.738315</td>\n",
       "    </tr>\n",
       "    <tr>\n",
       "      <th>2</th>\n",
       "      <td>LinearRegression</td>\n",
       "      <td>0.367059</td>\n",
       "    </tr>\n",
       "    <tr>\n",
       "      <th>4</th>\n",
       "      <td>RidgeCV</td>\n",
       "      <td>0.353005</td>\n",
       "    </tr>\n",
       "    <tr>\n",
       "      <th>1</th>\n",
       "      <td>LassoCV</td>\n",
       "      <td>0.330067</td>\n",
       "    </tr>\n",
       "    <tr>\n",
       "      <th>0</th>\n",
       "      <td>ElasticNetCV</td>\n",
       "      <td>0.329580</td>\n",
       "    </tr>\n",
       "  </tbody>\n",
       "</table>\n",
       "</div>"
      ],
      "text/plain": [
       "              model_name        r2\n",
       "3  RandomForestRegressor  0.738315\n",
       "2       LinearRegression  0.367059\n",
       "4                RidgeCV  0.353005\n",
       "1                LassoCV  0.330067\n",
       "0           ElasticNetCV  0.329580"
      ]
     },
     "execution_count": 409,
     "metadata": {},
     "output_type": "execute_result"
    }
   ],
   "source": [
    "# make grouby--to dataframe\n",
    "\n",
    "final_comp=cv_df.groupby(\"model_name\").r2.mean().reset_index().sort_values(by=\"r2\",ascending=False)\n",
    "\n",
    "final_comp"
   ]
  },
  {
   "cell_type": "markdown",
   "metadata": {},
   "source": [
    "### we can see in the comparitive performance pf the diffreent regression models that the random forest regressor has clearly out performed the rest of the regression models. It has a higer prediction value that is the r2 score and it also has the least bias. Thus we can say among the general models tried out the random forest regressor performs the best\n",
    "\n",
    "### The RF regressor model predicts with an efficiency of 73% which is higher than the rest of the models which perform fairly poor in predicting the TCL value"
   ]
  },
  {
   "cell_type": "markdown",
   "metadata": {},
   "source": [
    "## Model Hypertuning and Optimization"
   ]
  },
  {
   "cell_type": "code",
   "execution_count": 410,
   "metadata": {},
   "outputs": [],
   "source": [
    "from sklearn.model_selection import GridSearchCV\n",
    "#used for optimizaztion -- from lot of options"
   ]
  },
  {
   "cell_type": "code",
   "execution_count": 411,
   "metadata": {},
   "outputs": [],
   "source": [
    "regressor=RandomForestRegressor(random_state=32)"
   ]
  },
  {
   "cell_type": "code",
   "execution_count": 412,
   "metadata": {},
   "outputs": [],
   "source": [
    "#we have finalized the model =RandomForestRegressor as best model\n",
    "#then we run this code--to optimize\n",
    "\n",
    "grid={\"n_estimators\": [20,50,100,500],\n",
    "      \"criterion\" :[\"mse\",\"mae\"]}"
   ]
  },
  {
   "cell_type": "code",
   "execution_count": 413,
   "metadata": {},
   "outputs": [],
   "source": [
    "#time consuming\n",
    "grid_apply=GridSearchCV(regressor,grid,scoring=\"r2\",cv=3,refit=True,verbose=2)"
   ]
  },
  {
   "cell_type": "code",
   "execution_count": 414,
   "metadata": {},
   "outputs": [
    {
     "name": "stdout",
     "output_type": "stream",
     "text": [
      "Fitting 3 folds for each of 8 candidates, totalling 24 fits\n",
      "[CV] criterion=mse, n_estimators=20 ..................................\n",
      "[CV] ................... criterion=mse, n_estimators=20, total=   0.1s\n",
      "[CV] criterion=mse, n_estimators=20 ..................................\n",
      "[CV] ................... criterion=mse, n_estimators=20, total=   0.0s\n",
      "[CV] criterion=mse, n_estimators=20 ..................................\n"
     ]
    },
    {
     "name": "stderr",
     "output_type": "stream",
     "text": [
      "[Parallel(n_jobs=1)]: Using backend SequentialBackend with 1 concurrent workers.\n",
      "[Parallel(n_jobs=1)]: Done   1 out of   1 | elapsed:    0.0s remaining:    0.0s\n"
     ]
    },
    {
     "name": "stdout",
     "output_type": "stream",
     "text": [
      "[CV] ................... criterion=mse, n_estimators=20, total=   0.1s\n",
      "[CV] criterion=mse, n_estimators=50 ..................................\n",
      "[CV] ................... criterion=mse, n_estimators=50, total=   0.1s\n",
      "[CV] criterion=mse, n_estimators=50 ..................................\n",
      "[CV] ................... criterion=mse, n_estimators=50, total=   0.1s\n",
      "[CV] criterion=mse, n_estimators=50 ..................................\n",
      "[CV] ................... criterion=mse, n_estimators=50, total=   0.1s\n",
      "[CV] criterion=mse, n_estimators=100 .................................\n",
      "[CV] .................. criterion=mse, n_estimators=100, total=   0.2s\n",
      "[CV] criterion=mse, n_estimators=100 .................................\n",
      "[CV] .................. criterion=mse, n_estimators=100, total=   0.2s\n",
      "[CV] criterion=mse, n_estimators=100 .................................\n",
      "[CV] .................. criterion=mse, n_estimators=100, total=   0.2s\n",
      "[CV] criterion=mse, n_estimators=500 .................................\n",
      "[CV] .................. criterion=mse, n_estimators=500, total=   0.9s\n",
      "[CV] criterion=mse, n_estimators=500 .................................\n",
      "[CV] .................. criterion=mse, n_estimators=500, total=   0.8s\n",
      "[CV] criterion=mse, n_estimators=500 .................................\n",
      "[CV] .................. criterion=mse, n_estimators=500, total=   0.8s\n",
      "[CV] criterion=mae, n_estimators=20 ..................................\n",
      "[CV] ................... criterion=mae, n_estimators=20, total=   0.2s\n",
      "[CV] criterion=mae, n_estimators=20 ..................................\n",
      "[CV] ................... criterion=mae, n_estimators=20, total=   0.1s\n",
      "[CV] criterion=mae, n_estimators=20 ..................................\n",
      "[CV] ................... criterion=mae, n_estimators=20, total=   0.1s\n",
      "[CV] criterion=mae, n_estimators=50 ..................................\n",
      "[CV] ................... criterion=mae, n_estimators=50, total=   0.3s\n",
      "[CV] criterion=mae, n_estimators=50 ..................................\n",
      "[CV] ................... criterion=mae, n_estimators=50, total=   0.3s\n",
      "[CV] criterion=mae, n_estimators=50 ..................................\n",
      "[CV] ................... criterion=mae, n_estimators=50, total=   0.3s\n",
      "[CV] criterion=mae, n_estimators=100 .................................\n",
      "[CV] .................. criterion=mae, n_estimators=100, total=   0.6s\n",
      "[CV] criterion=mae, n_estimators=100 .................................\n",
      "[CV] .................. criterion=mae, n_estimators=100, total=   0.6s\n",
      "[CV] criterion=mae, n_estimators=100 .................................\n",
      "[CV] .................. criterion=mae, n_estimators=100, total=   0.6s\n",
      "[CV] criterion=mae, n_estimators=500 .................................\n",
      "[CV] .................. criterion=mae, n_estimators=500, total=   3.1s\n",
      "[CV] criterion=mae, n_estimators=500 .................................\n",
      "[CV] .................. criterion=mae, n_estimators=500, total=   2.9s\n",
      "[CV] criterion=mae, n_estimators=500 .................................\n",
      "[CV] .................. criterion=mae, n_estimators=500, total=   3.0s\n"
     ]
    },
    {
     "name": "stderr",
     "output_type": "stream",
     "text": [
      "[Parallel(n_jobs=1)]: Done  24 out of  24 | elapsed:   15.5s finished\n"
     ]
    },
    {
     "data": {
      "text/plain": [
       "GridSearchCV(cv=3, estimator=RandomForestRegressor(random_state=32),\n",
       "             param_grid={'criterion': ['mse', 'mae'],\n",
       "                         'n_estimators': [20, 50, 100, 500]},\n",
       "             scoring='r2', verbose=2)"
      ]
     },
     "execution_count": 414,
     "metadata": {},
     "output_type": "execute_result"
    }
   ],
   "source": [
    "#time consuming--runtime>30 mins--but worth it\n",
    "\n",
    "grid_apply.fit(x_train,y_train)"
   ]
  },
  {
   "cell_type": "code",
   "execution_count": 415,
   "metadata": {},
   "outputs": [
    {
     "name": "stdout",
     "output_type": "stream",
     "text": [
      "Best R Squared= 0.7152048952105939\n",
      " \n",
      "Best parameters= {'criterion': 'mse', 'n_estimators': 50}\n"
     ]
    }
   ],
   "source": [
    "#time consuming--runtime>30 mins\n",
    "\n",
    "best_perf=grid_apply.best_score_\n",
    "best_model=grid_apply.best_params_\n",
    "\n",
    "print (\"Best R Squared=\"+\" \"+str(best_perf))\n",
    "print(\" \")\n",
    "print (\"Best parameters=\"+\" \"+str(best_model))\n"
   ]
  },
  {
   "cell_type": "markdown",
   "metadata": {},
   "source": [
    "### This shows that the mse criterion with the 50 estimator value in the RF regression gives the most optimized predictive value of the TCL variable"
   ]
  },
  {
   "cell_type": "markdown",
   "metadata": {},
   "source": [
    "\n",
    "\n",
    "### Now loading the statistical data of the different species of the penguins in the antarctica region"
   ]
  },
  {
   "cell_type": "markdown",
   "metadata": {},
   "source": [
    "### Loading of the metallurgical strain test data and visualizing the different aspects of the compositional parameters of the grades of steel and mainly focussing on the percentage compositions of Carbon,Silicon,Manganese,Phosphorus and Sulphur and then regulating the strain perdicting the TCL variable"
   ]
  },
  {
   "cell_type": "code",
   "execution_count": 416,
   "metadata": {},
   "outputs": [
    {
     "data": {
      "text/html": [
       "<div>\n",
       "<style scoped>\n",
       "    .dataframe tbody tr th:only-of-type {\n",
       "        vertical-align: middle;\n",
       "    }\n",
       "\n",
       "    .dataframe tbody tr th {\n",
       "        vertical-align: top;\n",
       "    }\n",
       "\n",
       "    .dataframe thead th {\n",
       "        text-align: right;\n",
       "    }\n",
       "</style>\n",
       "<table border=\"1\" class=\"dataframe\">\n",
       "  <thead>\n",
       "    <tr style=\"text-align: right;\">\n",
       "      <th></th>\n",
       "      <th>species</th>\n",
       "      <th>island</th>\n",
       "      <th>bill_length_mm</th>\n",
       "      <th>bill_depth_mm</th>\n",
       "      <th>flipper_length_mm</th>\n",
       "      <th>body_mass_g</th>\n",
       "      <th>sex</th>\n",
       "    </tr>\n",
       "  </thead>\n",
       "  <tbody>\n",
       "    <tr>\n",
       "      <th>0</th>\n",
       "      <td>Adelie</td>\n",
       "      <td>Torgersen</td>\n",
       "      <td>39.1</td>\n",
       "      <td>18.7</td>\n",
       "      <td>181.0</td>\n",
       "      <td>3750.0</td>\n",
       "      <td>Male</td>\n",
       "    </tr>\n",
       "    <tr>\n",
       "      <th>1</th>\n",
       "      <td>Adelie</td>\n",
       "      <td>Torgersen</td>\n",
       "      <td>39.5</td>\n",
       "      <td>17.4</td>\n",
       "      <td>186.0</td>\n",
       "      <td>3800.0</td>\n",
       "      <td>Female</td>\n",
       "    </tr>\n",
       "    <tr>\n",
       "      <th>2</th>\n",
       "      <td>Adelie</td>\n",
       "      <td>Torgersen</td>\n",
       "      <td>40.3</td>\n",
       "      <td>18.0</td>\n",
       "      <td>195.0</td>\n",
       "      <td>3250.0</td>\n",
       "      <td>Female</td>\n",
       "    </tr>\n",
       "    <tr>\n",
       "      <th>3</th>\n",
       "      <td>Adelie</td>\n",
       "      <td>Torgersen</td>\n",
       "      <td>NaN</td>\n",
       "      <td>NaN</td>\n",
       "      <td>NaN</td>\n",
       "      <td>NaN</td>\n",
       "      <td>NaN</td>\n",
       "    </tr>\n",
       "    <tr>\n",
       "      <th>4</th>\n",
       "      <td>Adelie</td>\n",
       "      <td>Torgersen</td>\n",
       "      <td>36.7</td>\n",
       "      <td>19.3</td>\n",
       "      <td>193.0</td>\n",
       "      <td>3450.0</td>\n",
       "      <td>Female</td>\n",
       "    </tr>\n",
       "    <tr>\n",
       "      <th>5</th>\n",
       "      <td>Adelie</td>\n",
       "      <td>Torgersen</td>\n",
       "      <td>39.3</td>\n",
       "      <td>20.6</td>\n",
       "      <td>190.0</td>\n",
       "      <td>3650.0</td>\n",
       "      <td>Male</td>\n",
       "    </tr>\n",
       "    <tr>\n",
       "      <th>6</th>\n",
       "      <td>Adelie</td>\n",
       "      <td>Torgersen</td>\n",
       "      <td>38.9</td>\n",
       "      <td>17.8</td>\n",
       "      <td>181.0</td>\n",
       "      <td>3625.0</td>\n",
       "      <td>Female</td>\n",
       "    </tr>\n",
       "    <tr>\n",
       "      <th>7</th>\n",
       "      <td>Adelie</td>\n",
       "      <td>Torgersen</td>\n",
       "      <td>39.2</td>\n",
       "      <td>19.6</td>\n",
       "      <td>195.0</td>\n",
       "      <td>4675.0</td>\n",
       "      <td>Male</td>\n",
       "    </tr>\n",
       "    <tr>\n",
       "      <th>8</th>\n",
       "      <td>Adelie</td>\n",
       "      <td>Torgersen</td>\n",
       "      <td>34.1</td>\n",
       "      <td>18.1</td>\n",
       "      <td>193.0</td>\n",
       "      <td>3475.0</td>\n",
       "      <td>NaN</td>\n",
       "    </tr>\n",
       "    <tr>\n",
       "      <th>9</th>\n",
       "      <td>Adelie</td>\n",
       "      <td>Torgersen</td>\n",
       "      <td>42.0</td>\n",
       "      <td>20.2</td>\n",
       "      <td>190.0</td>\n",
       "      <td>4250.0</td>\n",
       "      <td>NaN</td>\n",
       "    </tr>\n",
       "  </tbody>\n",
       "</table>\n",
       "</div>"
      ],
      "text/plain": [
       "  species     island  bill_length_mm  bill_depth_mm  flipper_length_mm  \\\n",
       "0  Adelie  Torgersen            39.1           18.7              181.0   \n",
       "1  Adelie  Torgersen            39.5           17.4              186.0   \n",
       "2  Adelie  Torgersen            40.3           18.0              195.0   \n",
       "3  Adelie  Torgersen             NaN            NaN                NaN   \n",
       "4  Adelie  Torgersen            36.7           19.3              193.0   \n",
       "5  Adelie  Torgersen            39.3           20.6              190.0   \n",
       "6  Adelie  Torgersen            38.9           17.8              181.0   \n",
       "7  Adelie  Torgersen            39.2           19.6              195.0   \n",
       "8  Adelie  Torgersen            34.1           18.1              193.0   \n",
       "9  Adelie  Torgersen            42.0           20.2              190.0   \n",
       "\n",
       "   body_mass_g     sex  \n",
       "0       3750.0    Male  \n",
       "1       3800.0  Female  \n",
       "2       3250.0  Female  \n",
       "3          NaN     NaN  \n",
       "4       3450.0  Female  \n",
       "5       3650.0    Male  \n",
       "6       3625.0  Female  \n",
       "7       4675.0    Male  \n",
       "8       3475.0     NaN  \n",
       "9       4250.0     NaN  "
      ]
     },
     "execution_count": 416,
     "metadata": {},
     "output_type": "execute_result"
    }
   ],
   "source": [
    "df_experiment=sns.load_dataset(\"penguins\")\n",
    "df_experiment.head(10)"
   ]
  },
  {
   "cell_type": "code",
   "execution_count": 417,
   "metadata": {},
   "outputs": [
    {
     "name": "stdout",
     "output_type": "stream",
     "text": [
      "<class 'pandas.core.frame.DataFrame'>\n",
      "RangeIndex: 344 entries, 0 to 343\n",
      "Data columns (total 7 columns):\n",
      " #   Column             Non-Null Count  Dtype  \n",
      "---  ------             --------------  -----  \n",
      " 0   species            344 non-null    object \n",
      " 1   island             344 non-null    object \n",
      " 2   bill_length_mm     342 non-null    float64\n",
      " 3   bill_depth_mm      342 non-null    float64\n",
      " 4   flipper_length_mm  342 non-null    float64\n",
      " 5   body_mass_g        342 non-null    float64\n",
      " 6   sex                333 non-null    object \n",
      "dtypes: float64(4), object(3)\n",
      "memory usage: 18.9+ KB\n"
     ]
    }
   ],
   "source": [
    "df_experiment.info()"
   ]
  },
  {
   "cell_type": "code",
   "execution_count": 418,
   "metadata": {},
   "outputs": [
    {
     "data": {
      "text/html": [
       "<div>\n",
       "<style scoped>\n",
       "    .dataframe tbody tr th:only-of-type {\n",
       "        vertical-align: middle;\n",
       "    }\n",
       "\n",
       "    .dataframe tbody tr th {\n",
       "        vertical-align: top;\n",
       "    }\n",
       "\n",
       "    .dataframe thead th {\n",
       "        text-align: right;\n",
       "    }\n",
       "</style>\n",
       "<table border=\"1\" class=\"dataframe\">\n",
       "  <thead>\n",
       "    <tr style=\"text-align: right;\">\n",
       "      <th></th>\n",
       "      <th>bill_length_mm</th>\n",
       "      <th>bill_depth_mm</th>\n",
       "      <th>flipper_length_mm</th>\n",
       "      <th>body_mass_g</th>\n",
       "    </tr>\n",
       "  </thead>\n",
       "  <tbody>\n",
       "    <tr>\n",
       "      <th>count</th>\n",
       "      <td>342.000000</td>\n",
       "      <td>342.000000</td>\n",
       "      <td>342.000000</td>\n",
       "      <td>342.000000</td>\n",
       "    </tr>\n",
       "    <tr>\n",
       "      <th>mean</th>\n",
       "      <td>43.921930</td>\n",
       "      <td>17.151170</td>\n",
       "      <td>200.915205</td>\n",
       "      <td>4201.754386</td>\n",
       "    </tr>\n",
       "    <tr>\n",
       "      <th>std</th>\n",
       "      <td>5.459584</td>\n",
       "      <td>1.974793</td>\n",
       "      <td>14.061714</td>\n",
       "      <td>801.954536</td>\n",
       "    </tr>\n",
       "    <tr>\n",
       "      <th>min</th>\n",
       "      <td>32.100000</td>\n",
       "      <td>13.100000</td>\n",
       "      <td>172.000000</td>\n",
       "      <td>2700.000000</td>\n",
       "    </tr>\n",
       "    <tr>\n",
       "      <th>25%</th>\n",
       "      <td>39.225000</td>\n",
       "      <td>15.600000</td>\n",
       "      <td>190.000000</td>\n",
       "      <td>3550.000000</td>\n",
       "    </tr>\n",
       "    <tr>\n",
       "      <th>50%</th>\n",
       "      <td>44.450000</td>\n",
       "      <td>17.300000</td>\n",
       "      <td>197.000000</td>\n",
       "      <td>4050.000000</td>\n",
       "    </tr>\n",
       "    <tr>\n",
       "      <th>75%</th>\n",
       "      <td>48.500000</td>\n",
       "      <td>18.700000</td>\n",
       "      <td>213.000000</td>\n",
       "      <td>4750.000000</td>\n",
       "    </tr>\n",
       "    <tr>\n",
       "      <th>max</th>\n",
       "      <td>59.600000</td>\n",
       "      <td>21.500000</td>\n",
       "      <td>231.000000</td>\n",
       "      <td>6300.000000</td>\n",
       "    </tr>\n",
       "  </tbody>\n",
       "</table>\n",
       "</div>"
      ],
      "text/plain": [
       "       bill_length_mm  bill_depth_mm  flipper_length_mm  body_mass_g\n",
       "count      342.000000     342.000000         342.000000   342.000000\n",
       "mean        43.921930      17.151170         200.915205  4201.754386\n",
       "std          5.459584       1.974793          14.061714   801.954536\n",
       "min         32.100000      13.100000         172.000000  2700.000000\n",
       "25%         39.225000      15.600000         190.000000  3550.000000\n",
       "50%         44.450000      17.300000         197.000000  4050.000000\n",
       "75%         48.500000      18.700000         213.000000  4750.000000\n",
       "max         59.600000      21.500000         231.000000  6300.000000"
      ]
     },
     "execution_count": 418,
     "metadata": {},
     "output_type": "execute_result"
    }
   ],
   "source": [
    "df_experiment.describe()  #look for the scale"
   ]
  },
  {
   "cell_type": "code",
   "execution_count": 419,
   "metadata": {},
   "outputs": [
    {
     "data": {
      "text/html": [
       "<div>\n",
       "<style scoped>\n",
       "    .dataframe tbody tr th:only-of-type {\n",
       "        vertical-align: middle;\n",
       "    }\n",
       "\n",
       "    .dataframe tbody tr th {\n",
       "        vertical-align: top;\n",
       "    }\n",
       "\n",
       "    .dataframe thead th {\n",
       "        text-align: right;\n",
       "    }\n",
       "</style>\n",
       "<table border=\"1\" class=\"dataframe\">\n",
       "  <thead>\n",
       "    <tr style=\"text-align: right;\">\n",
       "      <th></th>\n",
       "      <th>species</th>\n",
       "      <th>island</th>\n",
       "      <th>sex</th>\n",
       "    </tr>\n",
       "  </thead>\n",
       "  <tbody>\n",
       "    <tr>\n",
       "      <th>count</th>\n",
       "      <td>344</td>\n",
       "      <td>344</td>\n",
       "      <td>333</td>\n",
       "    </tr>\n",
       "    <tr>\n",
       "      <th>unique</th>\n",
       "      <td>3</td>\n",
       "      <td>3</td>\n",
       "      <td>2</td>\n",
       "    </tr>\n",
       "    <tr>\n",
       "      <th>top</th>\n",
       "      <td>Adelie</td>\n",
       "      <td>Biscoe</td>\n",
       "      <td>Male</td>\n",
       "    </tr>\n",
       "    <tr>\n",
       "      <th>freq</th>\n",
       "      <td>152</td>\n",
       "      <td>168</td>\n",
       "      <td>168</td>\n",
       "    </tr>\n",
       "  </tbody>\n",
       "</table>\n",
       "</div>"
      ],
      "text/plain": [
       "       species  island   sex\n",
       "count      344     344   333\n",
       "unique       3       3     2\n",
       "top     Adelie  Biscoe  Male\n",
       "freq       152     168   168"
      ]
     },
     "execution_count": 419,
     "metadata": {},
     "output_type": "execute_result"
    }
   ],
   "source": [
    "df_experiment.describe(include=[\"O\"])\n"
   ]
  },
  {
   "cell_type": "code",
   "execution_count": 420,
   "metadata": {},
   "outputs": [],
   "source": [
    "df_experiment=df_experiment[df_experiment[\"sex\"].notnull()]"
   ]
  },
  {
   "cell_type": "code",
   "execution_count": 421,
   "metadata": {},
   "outputs": [
    {
     "data": {
      "text/html": [
       "<div>\n",
       "<style scoped>\n",
       "    .dataframe tbody tr th:only-of-type {\n",
       "        vertical-align: middle;\n",
       "    }\n",
       "\n",
       "    .dataframe tbody tr th {\n",
       "        vertical-align: top;\n",
       "    }\n",
       "\n",
       "    .dataframe thead th {\n",
       "        text-align: right;\n",
       "    }\n",
       "</style>\n",
       "<table border=\"1\" class=\"dataframe\">\n",
       "  <thead>\n",
       "    <tr style=\"text-align: right;\">\n",
       "      <th></th>\n",
       "      <th>species</th>\n",
       "      <th>island</th>\n",
       "      <th>sex</th>\n",
       "    </tr>\n",
       "  </thead>\n",
       "  <tbody>\n",
       "    <tr>\n",
       "      <th>count</th>\n",
       "      <td>333</td>\n",
       "      <td>333</td>\n",
       "      <td>333</td>\n",
       "    </tr>\n",
       "    <tr>\n",
       "      <th>unique</th>\n",
       "      <td>3</td>\n",
       "      <td>3</td>\n",
       "      <td>2</td>\n",
       "    </tr>\n",
       "    <tr>\n",
       "      <th>top</th>\n",
       "      <td>Adelie</td>\n",
       "      <td>Biscoe</td>\n",
       "      <td>Male</td>\n",
       "    </tr>\n",
       "    <tr>\n",
       "      <th>freq</th>\n",
       "      <td>146</td>\n",
       "      <td>163</td>\n",
       "      <td>168</td>\n",
       "    </tr>\n",
       "  </tbody>\n",
       "</table>\n",
       "</div>"
      ],
      "text/plain": [
       "       species  island   sex\n",
       "count      333     333   333\n",
       "unique       3       3     2\n",
       "top     Adelie  Biscoe  Male\n",
       "freq       146     163   168"
      ]
     },
     "execution_count": 421,
     "metadata": {},
     "output_type": "execute_result"
    }
   ],
   "source": [
    "df_experiment.describe(include=[\"O\"])"
   ]
  },
  {
   "cell_type": "code",
   "execution_count": 422,
   "metadata": {},
   "outputs": [
    {
     "data": {
      "text/plain": [
       "species              0\n",
       "island               0\n",
       "bill_length_mm       0\n",
       "bill_depth_mm        0\n",
       "flipper_length_mm    0\n",
       "body_mass_g          0\n",
       "sex                  0\n",
       "dtype: int64"
      ]
     },
     "execution_count": 422,
     "metadata": {},
     "output_type": "execute_result"
    }
   ],
   "source": [
    "df_experiment.isnull().sum()"
   ]
  },
  {
   "cell_type": "code",
   "execution_count": 423,
   "metadata": {},
   "outputs": [
    {
     "name": "stderr",
     "output_type": "stream",
     "text": [
      "C:\\ProgramData\\Anaconda3\\lib\\site-packages\\seaborn\\distributions.py:2551: FutureWarning: `distplot` is a deprecated function and will be removed in a future version. Please adapt your code to use either `displot` (a figure-level function with similar flexibility) or `histplot` (an axes-level function for histograms).\n",
      "  warnings.warn(msg, FutureWarning)\n",
      "C:\\ProgramData\\Anaconda3\\lib\\site-packages\\seaborn\\distributions.py:2551: FutureWarning: `distplot` is a deprecated function and will be removed in a future version. Please adapt your code to use either `displot` (a figure-level function with similar flexibility) or `histplot` (an axes-level function for histograms).\n",
      "  warnings.warn(msg, FutureWarning)\n",
      "C:\\ProgramData\\Anaconda3\\lib\\site-packages\\seaborn\\distributions.py:2551: FutureWarning: `distplot` is a deprecated function and will be removed in a future version. Please adapt your code to use either `displot` (a figure-level function with similar flexibility) or `histplot` (an axes-level function for histograms).\n",
      "  warnings.warn(msg, FutureWarning)\n",
      "C:\\ProgramData\\Anaconda3\\lib\\site-packages\\seaborn\\distributions.py:2551: FutureWarning: `distplot` is a deprecated function and will be removed in a future version. Please adapt your code to use either `displot` (a figure-level function with similar flexibility) or `histplot` (an axes-level function for histograms).\n",
      "  warnings.warn(msg, FutureWarning)\n"
     ]
    },
    {
     "data": {
      "image/png": "[encoded data removed]",
      "text/plain": [
       "<Figure size 720x720 with 4 Axes>"
      ]
     },
     "metadata": {},
     "output_type": "display_data"
    }
   ],
   "source": [
    "sns.set(color_codes=True)\n",
    "\n",
    "fig,axes=plt.subplots(2,2,figsize=(10,10))\n",
    "\n",
    "sns.distplot(df_experiment[\"bill_length_mm\"],color=colors[0],ax=axes[0,0])\n",
    "sns.distplot(df_experiment[\"bill_depth_mm\"],color=colors[2],ax=axes[0,1])\n",
    "sns.distplot(df_experiment[\"flipper_length_mm\"],color=colors[1],ax=axes[1,0])\n",
    "sns.distplot(df_experiment[\"body_mass_g\"],color=colors[3],ax=axes[1,1])\n",
    "\n",
    "plt.suptitle(\"dist of quantitative var\",y=1.01,size=16)\n",
    "plt.tight_layout\n",
    "plt.show()"
   ]
  },
  {
   "cell_type": "code",
   "execution_count": 424,
   "metadata": {},
   "outputs": [],
   "source": [
    "### The bill length and the flipper length shows a bimodal variation while the bill depth and body mass shows left and right skewed distributions"
   ]
  },
  {
   "cell_type": "code",
   "execution_count": 425,
   "metadata": {},
   "outputs": [
    {
     "data": {
      "image/png": "[encoded data removed]",
      "text/plain": [
       "<Figure size 720x720 with 4 Axes>"
      ]
     },
     "metadata": {},
     "output_type": "display_data"
    }
   ],
   "source": [
    "sns.set(color_codes=True)\n",
    "\n",
    "fig,axes=plt.subplots(2,2,figsize=(10,10))\n",
    "\n",
    "sns.boxplot(y=df_experiment[\"bill_length_mm\"],color=colors[0],ax=axes[0,0])\n",
    "sns.boxplot(y=df_experiment[\"bill_depth_mm\"],color=colors[2],ax=axes[0,1])\n",
    "sns.boxplot(y=df_experiment[\"flipper_length_mm\"],color=colors[1],ax=axes[1,0])\n",
    "sns.boxplot(y=df_experiment[\"body_mass_g\"],color=colors[3],ax=axes[1,1])\n",
    "\n",
    "plt.suptitle(\"dist of quantitative var\",y=1.01,size=16)\n",
    "plt.tight_layout\n",
    "plt.show()"
   ]
  },
  {
   "cell_type": "markdown",
   "metadata": {},
   "source": [
    "### No such outliers can be observed in the dataset observing the boxplots"
   ]
  },
  {
   "cell_type": "code",
   "execution_count": 426,
   "metadata": {},
   "outputs": [
    {
     "name": "stderr",
     "output_type": "stream",
     "text": [
      "C:\\ProgramData\\Anaconda3\\lib\\site-packages\\seaborn\\_decorators.py:36: FutureWarning: Pass the following variable as a keyword arg: x. From version 0.12, the only valid positional argument will be `data`, and passing other arguments without an explicit keyword will result in an error or misinterpretation.\n",
      "  warnings.warn(\n",
      "C:\\ProgramData\\Anaconda3\\lib\\site-packages\\seaborn\\_decorators.py:36: FutureWarning: Pass the following variable as a keyword arg: x. From version 0.12, the only valid positional argument will be `data`, and passing other arguments without an explicit keyword will result in an error or misinterpretation.\n",
      "  warnings.warn(\n",
      "C:\\ProgramData\\Anaconda3\\lib\\site-packages\\seaborn\\_decorators.py:36: FutureWarning: Pass the following variable as a keyword arg: x. From version 0.12, the only valid positional argument will be `data`, and passing other arguments without an explicit keyword will result in an error or misinterpretation.\n",
      "  warnings.warn(\n"
     ]
    },
    {
     "data": {
      "image/png": "[encoded data removed]",
      "text/plain": [
       "<Figure size 720x360 with 3 Axes>"
      ]
     },
     "metadata": {},
     "output_type": "display_data"
    }
   ],
   "source": [
    "sns.set(color_codes=True)\n",
    "colors=sns.color_palette(\"bright\")\n",
    "fig,axes=plt.subplots(1,3,figsize=(10,5))\n",
    "\n",
    "sns.countplot(\"species\",data=df_experiment, ax=axes[0])\n",
    "sns.countplot(\"island\",data=df_experiment, ax=axes[1])\n",
    "sns.countplot(\"sex\",data=df_experiment, ax=axes[2])\n",
    "\n",
    "# quick for loop to adjust all axes at once\n",
    "for ax in fig.axes:\n",
    "    ax.tick_params(labelrotation=90)\n",
    "    \n",
    "plt.title(\"categorical variables\",y=1.01,size=18)\n",
    "plt.tight_layout\n",
    "plt.show()"
   ]
  },
  {
   "cell_type": "markdown",
   "metadata": {},
   "source": [
    "### The male and the female distributions show equal representations more or less so there is no large bias present in the dataset\n",
    "\n",
    "### The island representations show so irregularities in the no of specimens and thus we are dropping the island coluimn and will be henceforth working with the species distribution"
   ]
  },
  {
   "cell_type": "code",
   "execution_count": 427,
   "metadata": {},
   "outputs": [
    {
     "data": {
      "text/html": [
       "<div>\n",
       "<style scoped>\n",
       "    .dataframe tbody tr th:only-of-type {\n",
       "        vertical-align: middle;\n",
       "    }\n",
       "\n",
       "    .dataframe tbody tr th {\n",
       "        vertical-align: top;\n",
       "    }\n",
       "\n",
       "    .dataframe thead th {\n",
       "        text-align: right;\n",
       "    }\n",
       "</style>\n",
       "<table border=\"1\" class=\"dataframe\">\n",
       "  <thead>\n",
       "    <tr style=\"text-align: right;\">\n",
       "      <th></th>\n",
       "      <th>species</th>\n",
       "      <th>bill_length_mm</th>\n",
       "      <th>bill_depth_mm</th>\n",
       "      <th>flipper_length_mm</th>\n",
       "      <th>body_mass_g</th>\n",
       "      <th>sex</th>\n",
       "    </tr>\n",
       "  </thead>\n",
       "  <tbody>\n",
       "    <tr>\n",
       "      <th>0</th>\n",
       "      <td>Adelie</td>\n",
       "      <td>39.1</td>\n",
       "      <td>18.7</td>\n",
       "      <td>181.0</td>\n",
       "      <td>3750.0</td>\n",
       "      <td>Male</td>\n",
       "    </tr>\n",
       "    <tr>\n",
       "      <th>1</th>\n",
       "      <td>Adelie</td>\n",
       "      <td>39.5</td>\n",
       "      <td>17.4</td>\n",
       "      <td>186.0</td>\n",
       "      <td>3800.0</td>\n",
       "      <td>Female</td>\n",
       "    </tr>\n",
       "    <tr>\n",
       "      <th>2</th>\n",
       "      <td>Adelie</td>\n",
       "      <td>40.3</td>\n",
       "      <td>18.0</td>\n",
       "      <td>195.0</td>\n",
       "      <td>3250.0</td>\n",
       "      <td>Female</td>\n",
       "    </tr>\n",
       "    <tr>\n",
       "      <th>4</th>\n",
       "      <td>Adelie</td>\n",
       "      <td>36.7</td>\n",
       "      <td>19.3</td>\n",
       "      <td>193.0</td>\n",
       "      <td>3450.0</td>\n",
       "      <td>Female</td>\n",
       "    </tr>\n",
       "    <tr>\n",
       "      <th>5</th>\n",
       "      <td>Adelie</td>\n",
       "      <td>39.3</td>\n",
       "      <td>20.6</td>\n",
       "      <td>190.0</td>\n",
       "      <td>3650.0</td>\n",
       "      <td>Male</td>\n",
       "    </tr>\n",
       "    <tr>\n",
       "      <th>...</th>\n",
       "      <td>...</td>\n",
       "      <td>...</td>\n",
       "      <td>...</td>\n",
       "      <td>...</td>\n",
       "      <td>...</td>\n",
       "      <td>...</td>\n",
       "    </tr>\n",
       "    <tr>\n",
       "      <th>338</th>\n",
       "      <td>Gentoo</td>\n",
       "      <td>47.2</td>\n",
       "      <td>13.7</td>\n",
       "      <td>214.0</td>\n",
       "      <td>4925.0</td>\n",
       "      <td>Female</td>\n",
       "    </tr>\n",
       "    <tr>\n",
       "      <th>340</th>\n",
       "      <td>Gentoo</td>\n",
       "      <td>46.8</td>\n",
       "      <td>14.3</td>\n",
       "      <td>215.0</td>\n",
       "      <td>4850.0</td>\n",
       "      <td>Female</td>\n",
       "    </tr>\n",
       "    <tr>\n",
       "      <th>341</th>\n",
       "      <td>Gentoo</td>\n",
       "      <td>50.4</td>\n",
       "      <td>15.7</td>\n",
       "      <td>222.0</td>\n",
       "      <td>5750.0</td>\n",
       "      <td>Male</td>\n",
       "    </tr>\n",
       "    <tr>\n",
       "      <th>342</th>\n",
       "      <td>Gentoo</td>\n",
       "      <td>45.2</td>\n",
       "      <td>14.8</td>\n",
       "      <td>212.0</td>\n",
       "      <td>5200.0</td>\n",
       "      <td>Female</td>\n",
       "    </tr>\n",
       "    <tr>\n",
       "      <th>343</th>\n",
       "      <td>Gentoo</td>\n",
       "      <td>49.9</td>\n",
       "      <td>16.1</td>\n",
       "      <td>213.0</td>\n",
       "      <td>5400.0</td>\n",
       "      <td>Male</td>\n",
       "    </tr>\n",
       "  </tbody>\n",
       "</table>\n",
       "<p>333 rows × 6 columns</p>\n",
       "</div>"
      ],
      "text/plain": [
       "    species  bill_length_mm  bill_depth_mm  flipper_length_mm  body_mass_g  \\\n",
       "0    Adelie            39.1           18.7              181.0       3750.0   \n",
       "1    Adelie            39.5           17.4              186.0       3800.0   \n",
       "2    Adelie            40.3           18.0              195.0       3250.0   \n",
       "4    Adelie            36.7           19.3              193.0       3450.0   \n",
       "5    Adelie            39.3           20.6              190.0       3650.0   \n",
       "..      ...             ...            ...                ...          ...   \n",
       "338  Gentoo            47.2           13.7              214.0       4925.0   \n",
       "340  Gentoo            46.8           14.3              215.0       4850.0   \n",
       "341  Gentoo            50.4           15.7              222.0       5750.0   \n",
       "342  Gentoo            45.2           14.8              212.0       5200.0   \n",
       "343  Gentoo            49.9           16.1              213.0       5400.0   \n",
       "\n",
       "        sex  \n",
       "0      Male  \n",
       "1    Female  \n",
       "2    Female  \n",
       "4    Female  \n",
       "5      Male  \n",
       "..      ...  \n",
       "338  Female  \n",
       "340  Female  \n",
       "341    Male  \n",
       "342  Female  \n",
       "343    Male  \n",
       "\n",
       "[333 rows x 6 columns]"
      ]
     },
     "execution_count": 427,
     "metadata": {},
     "output_type": "execute_result"
    }
   ],
   "source": [
    "#male is same almnost in count as female ,thus well face no bias as such\n",
    "#get rid of island column\n",
    "df_experiment=df_experiment.drop(columns=\"island\",axis=0)\n",
    "df_experiment"
   ]
  },
  {
   "cell_type": "code",
   "execution_count": 428,
   "metadata": {},
   "outputs": [
    {
     "data": {
      "text/plain": [
       "Adelie       146\n",
       "Gentoo       119\n",
       "Chinstrap     68\n",
       "Name: species, dtype: int64"
      ]
     },
     "execution_count": 428,
     "metadata": {},
     "output_type": "execute_result"
    }
   ],
   "source": [
    "df_experiment[\"species\"].value_counts()"
   ]
  },
  {
   "cell_type": "code",
   "execution_count": 429,
   "metadata": {},
   "outputs": [],
   "source": [
    "adelie=df_experiment[df_experiment[\"species\"]==\"Adelie\"].sample(n=50)\n",
    "gentoo=df_experiment[df_experiment[\"species\"]==\"Gentoo\"].sample(n=50)\n",
    "chinstrap=df_experiment[df_experiment[\"species\"]==\"Chinstrap\"].sample(n=50)"
   ]
  },
  {
   "cell_type": "code",
   "execution_count": 430,
   "metadata": {},
   "outputs": [
    {
     "data": {
      "text/html": [
       "<div>\n",
       "<style scoped>\n",
       "    .dataframe tbody tr th:only-of-type {\n",
       "        vertical-align: middle;\n",
       "    }\n",
       "\n",
       "    .dataframe tbody tr th {\n",
       "        vertical-align: top;\n",
       "    }\n",
       "\n",
       "    .dataframe thead th {\n",
       "        text-align: right;\n",
       "    }\n",
       "</style>\n",
       "<table border=\"1\" class=\"dataframe\">\n",
       "  <thead>\n",
       "    <tr style=\"text-align: right;\">\n",
       "      <th></th>\n",
       "      <th>species</th>\n",
       "      <th>bill_length_mm</th>\n",
       "      <th>bill_depth_mm</th>\n",
       "      <th>flipper_length_mm</th>\n",
       "      <th>body_mass_g</th>\n",
       "      <th>sex</th>\n",
       "    </tr>\n",
       "  </thead>\n",
       "  <tbody>\n",
       "    <tr>\n",
       "      <th>60</th>\n",
       "      <td>Adelie</td>\n",
       "      <td>35.7</td>\n",
       "      <td>16.9</td>\n",
       "      <td>185.0</td>\n",
       "      <td>3150.0</td>\n",
       "      <td>Female</td>\n",
       "    </tr>\n",
       "    <tr>\n",
       "      <th>55</th>\n",
       "      <td>Adelie</td>\n",
       "      <td>41.4</td>\n",
       "      <td>18.6</td>\n",
       "      <td>191.0</td>\n",
       "      <td>3700.0</td>\n",
       "      <td>Male</td>\n",
       "    </tr>\n",
       "    <tr>\n",
       "      <th>79</th>\n",
       "      <td>Adelie</td>\n",
       "      <td>42.1</td>\n",
       "      <td>19.1</td>\n",
       "      <td>195.0</td>\n",
       "      <td>4000.0</td>\n",
       "      <td>Male</td>\n",
       "    </tr>\n",
       "    <tr>\n",
       "      <th>76</th>\n",
       "      <td>Adelie</td>\n",
       "      <td>40.9</td>\n",
       "      <td>16.8</td>\n",
       "      <td>191.0</td>\n",
       "      <td>3700.0</td>\n",
       "      <td>Female</td>\n",
       "    </tr>\n",
       "    <tr>\n",
       "      <th>15</th>\n",
       "      <td>Adelie</td>\n",
       "      <td>36.6</td>\n",
       "      <td>17.8</td>\n",
       "      <td>185.0</td>\n",
       "      <td>3700.0</td>\n",
       "      <td>Female</td>\n",
       "    </tr>\n",
       "    <tr>\n",
       "      <th>...</th>\n",
       "      <td>...</td>\n",
       "      <td>...</td>\n",
       "      <td>...</td>\n",
       "      <td>...</td>\n",
       "      <td>...</td>\n",
       "      <td>...</td>\n",
       "    </tr>\n",
       "    <tr>\n",
       "      <th>193</th>\n",
       "      <td>Chinstrap</td>\n",
       "      <td>46.2</td>\n",
       "      <td>17.5</td>\n",
       "      <td>187.0</td>\n",
       "      <td>3650.0</td>\n",
       "      <td>Female</td>\n",
       "    </tr>\n",
       "    <tr>\n",
       "      <th>211</th>\n",
       "      <td>Chinstrap</td>\n",
       "      <td>45.6</td>\n",
       "      <td>19.4</td>\n",
       "      <td>194.0</td>\n",
       "      <td>3525.0</td>\n",
       "      <td>Female</td>\n",
       "    </tr>\n",
       "    <tr>\n",
       "      <th>209</th>\n",
       "      <td>Chinstrap</td>\n",
       "      <td>49.3</td>\n",
       "      <td>19.9</td>\n",
       "      <td>203.0</td>\n",
       "      <td>4050.0</td>\n",
       "      <td>Male</td>\n",
       "    </tr>\n",
       "    <tr>\n",
       "      <th>207</th>\n",
       "      <td>Chinstrap</td>\n",
       "      <td>52.2</td>\n",
       "      <td>18.8</td>\n",
       "      <td>197.0</td>\n",
       "      <td>3450.0</td>\n",
       "      <td>Male</td>\n",
       "    </tr>\n",
       "    <tr>\n",
       "      <th>212</th>\n",
       "      <td>Chinstrap</td>\n",
       "      <td>51.9</td>\n",
       "      <td>19.5</td>\n",
       "      <td>206.0</td>\n",
       "      <td>3950.0</td>\n",
       "      <td>Male</td>\n",
       "    </tr>\n",
       "  </tbody>\n",
       "</table>\n",
       "<p>150 rows × 6 columns</p>\n",
       "</div>"
      ],
      "text/plain": [
       "       species  bill_length_mm  bill_depth_mm  flipper_length_mm  body_mass_g  \\\n",
       "60      Adelie            35.7           16.9              185.0       3150.0   \n",
       "55      Adelie            41.4           18.6              191.0       3700.0   \n",
       "79      Adelie            42.1           19.1              195.0       4000.0   \n",
       "76      Adelie            40.9           16.8              191.0       3700.0   \n",
       "15      Adelie            36.6           17.8              185.0       3700.0   \n",
       "..         ...             ...            ...                ...          ...   \n",
       "193  Chinstrap            46.2           17.5              187.0       3650.0   \n",
       "211  Chinstrap            45.6           19.4              194.0       3525.0   \n",
       "209  Chinstrap            49.3           19.9              203.0       4050.0   \n",
       "207  Chinstrap            52.2           18.8              197.0       3450.0   \n",
       "212  Chinstrap            51.9           19.5              206.0       3950.0   \n",
       "\n",
       "        sex  \n",
       "60   Female  \n",
       "55     Male  \n",
       "79     Male  \n",
       "76   Female  \n",
       "15   Female  \n",
       "..      ...  \n",
       "193  Female  \n",
       "211  Female  \n",
       "209    Male  \n",
       "207    Male  \n",
       "212    Male  \n",
       "\n",
       "[150 rows x 6 columns]"
      ]
     },
     "execution_count": 430,
     "metadata": {},
     "output_type": "execute_result"
    }
   ],
   "source": [
    "new_peng=pd.concat([adelie,gentoo,chinstrap],axis=0)\n",
    "new_peng"
   ]
  },
  {
   "cell_type": "markdown",
   "metadata": {},
   "source": [
    "### We are converting the male anmd female species as 0 and 1 values so that we can model the distributions accordingly"
   ]
  },
  {
   "cell_type": "code",
   "execution_count": 431,
   "metadata": {},
   "outputs": [
    {
     "data": {
      "text/html": [
       "<div>\n",
       "<style scoped>\n",
       "    .dataframe tbody tr th:only-of-type {\n",
       "        vertical-align: middle;\n",
       "    }\n",
       "\n",
       "    .dataframe tbody tr th {\n",
       "        vertical-align: top;\n",
       "    }\n",
       "\n",
       "    .dataframe thead th {\n",
       "        text-align: right;\n",
       "    }\n",
       "</style>\n",
       "<table border=\"1\" class=\"dataframe\">\n",
       "  <thead>\n",
       "    <tr style=\"text-align: right;\">\n",
       "      <th></th>\n",
       "      <th>species</th>\n",
       "      <th>bill_length_mm</th>\n",
       "      <th>bill_depth_mm</th>\n",
       "      <th>flipper_length_mm</th>\n",
       "      <th>body_mass_g</th>\n",
       "      <th>Female</th>\n",
       "      <th>Male</th>\n",
       "    </tr>\n",
       "  </thead>\n",
       "  <tbody>\n",
       "    <tr>\n",
       "      <th>60</th>\n",
       "      <td>Adelie</td>\n",
       "      <td>35.7</td>\n",
       "      <td>16.9</td>\n",
       "      <td>185.0</td>\n",
       "      <td>3150.0</td>\n",
       "      <td>1</td>\n",
       "      <td>0</td>\n",
       "    </tr>\n",
       "    <tr>\n",
       "      <th>55</th>\n",
       "      <td>Adelie</td>\n",
       "      <td>41.4</td>\n",
       "      <td>18.6</td>\n",
       "      <td>191.0</td>\n",
       "      <td>3700.0</td>\n",
       "      <td>0</td>\n",
       "      <td>1</td>\n",
       "    </tr>\n",
       "    <tr>\n",
       "      <th>79</th>\n",
       "      <td>Adelie</td>\n",
       "      <td>42.1</td>\n",
       "      <td>19.1</td>\n",
       "      <td>195.0</td>\n",
       "      <td>4000.0</td>\n",
       "      <td>0</td>\n",
       "      <td>1</td>\n",
       "    </tr>\n",
       "    <tr>\n",
       "      <th>76</th>\n",
       "      <td>Adelie</td>\n",
       "      <td>40.9</td>\n",
       "      <td>16.8</td>\n",
       "      <td>191.0</td>\n",
       "      <td>3700.0</td>\n",
       "      <td>1</td>\n",
       "      <td>0</td>\n",
       "    </tr>\n",
       "    <tr>\n",
       "      <th>15</th>\n",
       "      <td>Adelie</td>\n",
       "      <td>36.6</td>\n",
       "      <td>17.8</td>\n",
       "      <td>185.0</td>\n",
       "      <td>3700.0</td>\n",
       "      <td>1</td>\n",
       "      <td>0</td>\n",
       "    </tr>\n",
       "    <tr>\n",
       "      <th>...</th>\n",
       "      <td>...</td>\n",
       "      <td>...</td>\n",
       "      <td>...</td>\n",
       "      <td>...</td>\n",
       "      <td>...</td>\n",
       "      <td>...</td>\n",
       "      <td>...</td>\n",
       "    </tr>\n",
       "    <tr>\n",
       "      <th>193</th>\n",
       "      <td>Chinstrap</td>\n",
       "      <td>46.2</td>\n",
       "      <td>17.5</td>\n",
       "      <td>187.0</td>\n",
       "      <td>3650.0</td>\n",
       "      <td>1</td>\n",
       "      <td>0</td>\n",
       "    </tr>\n",
       "    <tr>\n",
       "      <th>211</th>\n",
       "      <td>Chinstrap</td>\n",
       "      <td>45.6</td>\n",
       "      <td>19.4</td>\n",
       "      <td>194.0</td>\n",
       "      <td>3525.0</td>\n",
       "      <td>1</td>\n",
       "      <td>0</td>\n",
       "    </tr>\n",
       "    <tr>\n",
       "      <th>209</th>\n",
       "      <td>Chinstrap</td>\n",
       "      <td>49.3</td>\n",
       "      <td>19.9</td>\n",
       "      <td>203.0</td>\n",
       "      <td>4050.0</td>\n",
       "      <td>0</td>\n",
       "      <td>1</td>\n",
       "    </tr>\n",
       "    <tr>\n",
       "      <th>207</th>\n",
       "      <td>Chinstrap</td>\n",
       "      <td>52.2</td>\n",
       "      <td>18.8</td>\n",
       "      <td>197.0</td>\n",
       "      <td>3450.0</td>\n",
       "      <td>0</td>\n",
       "      <td>1</td>\n",
       "    </tr>\n",
       "    <tr>\n",
       "      <th>212</th>\n",
       "      <td>Chinstrap</td>\n",
       "      <td>51.9</td>\n",
       "      <td>19.5</td>\n",
       "      <td>206.0</td>\n",
       "      <td>3950.0</td>\n",
       "      <td>0</td>\n",
       "      <td>1</td>\n",
       "    </tr>\n",
       "  </tbody>\n",
       "</table>\n",
       "<p>150 rows × 7 columns</p>\n",
       "</div>"
      ],
      "text/plain": [
       "       species  bill_length_mm  bill_depth_mm  flipper_length_mm  body_mass_g  \\\n",
       "60      Adelie            35.7           16.9              185.0       3150.0   \n",
       "55      Adelie            41.4           18.6              191.0       3700.0   \n",
       "79      Adelie            42.1           19.1              195.0       4000.0   \n",
       "76      Adelie            40.9           16.8              191.0       3700.0   \n",
       "15      Adelie            36.6           17.8              185.0       3700.0   \n",
       "..         ...             ...            ...                ...          ...   \n",
       "193  Chinstrap            46.2           17.5              187.0       3650.0   \n",
       "211  Chinstrap            45.6           19.4              194.0       3525.0   \n",
       "209  Chinstrap            49.3           19.9              203.0       4050.0   \n",
       "207  Chinstrap            52.2           18.8              197.0       3450.0   \n",
       "212  Chinstrap            51.9           19.5              206.0       3950.0   \n",
       "\n",
       "     Female  Male  \n",
       "60        1     0  \n",
       "55        0     1  \n",
       "79        0     1  \n",
       "76        1     0  \n",
       "15        1     0  \n",
       "..      ...   ...  \n",
       "193       1     0  \n",
       "211       1     0  \n",
       "209       0     1  \n",
       "207       0     1  \n",
       "212       0     1  \n",
       "\n",
       "[150 rows x 7 columns]"
      ]
     },
     "execution_count": 431,
     "metadata": {},
     "output_type": "execute_result"
    }
   ],
   "source": [
    "peng_sex=pd.get_dummies(new_peng[\"sex\"])\n",
    "new_peng=new_peng.drop(columns=\"sex\",axis=0)\n",
    "final_df=pd.concat([new_peng,peng_sex],axis=1)\n",
    "final_df"
   ]
  },
  {
   "cell_type": "markdown",
   "metadata": {},
   "source": [
    "### After cleqning our dataset it is time for us to actually split the data into the training and the testing set such that we can train the different models with the training data and test the models with the test data.It is to be noted that here no cross validation of the data is not performed but can easily be considered if we slpit the teraining testing and the cross validation data in a 70:20:10 ratio¶"
   ]
  },
  {
   "cell_type": "code",
   "execution_count": 432,
   "metadata": {},
   "outputs": [],
   "source": [
    "# now we split the data\n",
    "#random state= something --exact same split every time\n",
    "\n",
    "train_df,test_df=train_test_split(final_df,test_size=0.5,random_state=32)"
   ]
  },
  {
   "cell_type": "code",
   "execution_count": 433,
   "metadata": {},
   "outputs": [],
   "source": [
    "y_test=test_df[\"species\"]\n",
    "\n",
    "x_test=test_df.drop(columns=[\"species\"],axis= 1)\n",
    "\n",
    "y_train=train_df[\"species\"]\n",
    "\n",
    "x_train=train_df.drop(columns=[\"species\"],axis= 1)"
   ]
  },
  {
   "cell_type": "code",
   "execution_count": 434,
   "metadata": {},
   "outputs": [
    {
     "data": {
      "text/html": [
       "<div>\n",
       "<style scoped>\n",
       "    .dataframe tbody tr th:only-of-type {\n",
       "        vertical-align: middle;\n",
       "    }\n",
       "\n",
       "    .dataframe tbody tr th {\n",
       "        vertical-align: top;\n",
       "    }\n",
       "\n",
       "    .dataframe thead th {\n",
       "        text-align: right;\n",
       "    }\n",
       "</style>\n",
       "<table border=\"1\" class=\"dataframe\">\n",
       "  <thead>\n",
       "    <tr style=\"text-align: right;\">\n",
       "      <th></th>\n",
       "      <th>species</th>\n",
       "      <th>spec_id</th>\n",
       "    </tr>\n",
       "  </thead>\n",
       "  <tbody>\n",
       "    <tr>\n",
       "      <th>60</th>\n",
       "      <td>Adelie</td>\n",
       "      <td>0</td>\n",
       "    </tr>\n",
       "    <tr>\n",
       "      <th>334</th>\n",
       "      <td>Gentoo</td>\n",
       "      <td>1</td>\n",
       "    </tr>\n",
       "    <tr>\n",
       "      <th>192</th>\n",
       "      <td>Chinstrap</td>\n",
       "      <td>2</td>\n",
       "    </tr>\n",
       "  </tbody>\n",
       "</table>\n",
       "</div>"
      ],
      "text/plain": [
       "       species  spec_id\n",
       "60      Adelie        0\n",
       "334     Gentoo        1\n",
       "192  Chinstrap        2"
      ]
     },
     "execution_count": 434,
     "metadata": {},
     "output_type": "execute_result"
    }
   ],
   "source": [
    "# binarize our categorical labels fr the species\n",
    "final_df[\"spec_id\"]=final_df[\"species\"].factorize()[0]\n",
    "\n",
    "#setting up the associated dictionary for the later usage with heat maps and confusion matrix\n",
    "spec_id_df=final_df[[\"species\",\"spec_id\"]].drop_duplicates().sort_values(\"spec_id\")\n",
    "spec_id_df"
   ]
  },
  {
   "cell_type": "markdown",
   "metadata": {},
   "source": [
    "## Hypothesis Testing"
   ]
  },
  {
   "cell_type": "markdown",
   "metadata": {},
   "source": [
    "###  Naive bayes"
   ]
  },
  {
   "cell_type": "code",
   "execution_count": 435,
   "metadata": {},
   "outputs": [
    {
     "data": {
      "text/plain": [
       "array([[14,  8,  8],\n",
       "       [ 1, 19,  4],\n",
       "       [ 0,  0, 21]], dtype=int64)"
      ]
     },
     "execution_count": 435,
     "metadata": {},
     "output_type": "execute_result"
    }
   ],
   "source": [
    "from sklearn.naive_bayes import MultinomialNB\n",
    "model_NB=MultinomialNB()\n",
    "model_NB.fit(x_train,y_train)\n",
    "y_pred_nb=model_NB.predict(x_test)\n",
    "from sklearn.metrics import confusion_matrix\n",
    "nb_confusion_matrix=confusion_matrix(y_test,y_pred_nb)\n",
    "nb_confusion_matrix"
   ]
  },
  {
   "cell_type": "code",
   "execution_count": 436,
   "metadata": {},
   "outputs": [
    {
     "data": {
      "image/png": "[encoded data removed]",
      "text/plain": [
       "<Figure size 432x288 with 2 Axes>"
      ]
     },
     "metadata": {},
     "output_type": "display_data"
    }
   ],
   "source": [
    "sns.set(color_codes=True)\n",
    "sns.heatmap(nb_confusion_matrix,cmap=\"Greens\",annot=True,linewidth=0.5,\n",
    "           xticklabels=spec_id_df[\"species\"].values,yticklabels=spec_id_df[\"species\"].values)\n",
    "\n",
    "plt.show()"
   ]
  },
  {
   "cell_type": "code",
   "execution_count": 437,
   "metadata": {},
   "outputs": [
    {
     "name": "stdout",
     "output_type": "stream",
     "text": [
      "classification report:naive bayes\n",
      "              precision    recall  f1-score   support\n",
      "\n",
      "      Adelie       0.93      0.47      0.62        30\n",
      "   Chinstrap       0.70      0.79      0.75        24\n",
      "      Gentoo       0.64      1.00      0.78        21\n",
      "\n",
      "    accuracy                           0.72        75\n",
      "   macro avg       0.76      0.75      0.72        75\n",
      "weighted avg       0.78      0.72      0.71        75\n",
      "\n"
     ]
    }
   ],
   "source": [
    " from sklearn.metrics import classification_report\n",
    "print(\"classification report:naive bayes\")\n",
    "print(classification_report(y_test,y_pred_nb))"
   ]
  },
  {
   "cell_type": "markdown",
   "metadata": {},
   "source": [
    "### The classification report of the naive bayes shows an f1 score of about 0.81 showing that the predicting efficiency is about 81%"
   ]
  },
  {
   "cell_type": "markdown",
   "metadata": {},
   "source": [
    "### logistic regression"
   ]
  },
  {
   "cell_type": "code",
   "execution_count": 438,
   "metadata": {},
   "outputs": [
    {
     "data": {
      "text/plain": [
       "array([[28,  2,  0],\n",
       "       [ 0, 24,  0],\n",
       "       [ 0,  0, 21]], dtype=int64)"
      ]
     },
     "execution_count": 438,
     "metadata": {},
     "output_type": "execute_result"
    }
   ],
   "source": [
    "from sklearn.linear_model import LogisticRegression\n",
    "model_log=LogisticRegression(multi_class=\"multinomial\",max_iter=10000)\n",
    "model_log.fit(x_train,y_train)\n",
    "y_pred_log=model_log.predict(x_test)\n",
    "log_confusion_matrix1=confusion_matrix(y_test,y_pred_log)\n",
    "log_confusion_matrix1"
   ]
  },
  {
   "cell_type": "code",
   "execution_count": 439,
   "metadata": {},
   "outputs": [
    {
     "data": {
      "image/png": "[encoded data removed]",
      "text/plain": [
       "<Figure size 432x288 with 2 Axes>"
      ]
     },
     "metadata": {},
     "output_type": "display_data"
    }
   ],
   "source": [
    "sns.set(color_codes=True)\n",
    "sns.heatmap(log_confusion_matrix1,cmap=\"Greens\",annot=True,linewidth=0.5,\n",
    "           xticklabels=spec_id_df[\"species\"].values,yticklabels=spec_id_df[\"species\"].values)\n",
    "\n",
    "plt.show()"
   ]
  },
  {
   "cell_type": "code",
   "execution_count": 440,
   "metadata": {},
   "outputs": [
    {
     "name": "stdout",
     "output_type": "stream",
     "text": [
      "classification report:logistic regression\n",
      "              precision    recall  f1-score   support\n",
      "\n",
      "      Adelie       1.00      0.93      0.97        30\n",
      "   Chinstrap       0.92      1.00      0.96        24\n",
      "      Gentoo       1.00      1.00      1.00        21\n",
      "\n",
      "    accuracy                           0.97        75\n",
      "   macro avg       0.97      0.98      0.98        75\n",
      "weighted avg       0.98      0.97      0.97        75\n",
      "\n"
     ]
    }
   ],
   "source": [
    " from sklearn.metrics import classification_report\n",
    "print(\"classification report:logistic regression\")\n",
    "print(classification_report(y_test,y_pred_log))"
   ]
  },
  {
   "cell_type": "markdown",
   "metadata": {},
   "source": [
    "### The classification report of the naive bayes shows an f1 score of about 0.99 showing that the predicting efficiency is about 99%\n",
    "\n",
    "### Thus the logistic regression model performs exceptionally well in predicting the species variation"
   ]
  },
  {
   "cell_type": "markdown",
   "metadata": {},
   "source": [
    "### K-nearest neighbours"
   ]
  },
  {
   "cell_type": "code",
   "execution_count": 269,
   "metadata": {},
   "outputs": [
    {
     "data": {
      "text/plain": [
       "array([[15,  9,  6],\n",
       "       [ 8, 16,  0],\n",
       "       [ 0,  0, 21]], dtype=int64)"
      ]
     },
     "execution_count": 269,
     "metadata": {},
     "output_type": "execute_result"
    }
   ],
   "source": [
    "from sklearn.neighbors import KNeighborsClassifier\n",
    "model_KNN=KNeighborsClassifier()\n",
    "model_KNN.fit(x_train,y_train)\n",
    "\n",
    "y_pred_KNN = model_KNN.predict(x_test)\n",
    "KNN_confusion_matrix=confusion_matrix(y_test,y_pred_KNN)\n",
    "KNN_confusion_matrix"
   ]
  },
  {
   "cell_type": "code",
   "execution_count": 270,
   "metadata": {},
   "outputs": [
    {
     "data": {
      "image/png": "[encoded data removed]",
      "text/plain": [
       "<Figure size 432x288 with 2 Axes>"
      ]
     },
     "metadata": {},
     "output_type": "display_data"
    }
   ],
   "source": [
    "sns.set(color_codes=True)\n",
    "sns.heatmap(KNN_confusion_matrix,cmap=\"Greens\",annot=True,linewidth=0.5,\n",
    "           xticklabels=spec_id_df[\"species\"].values,yticklabels=spec_id_df[\"species\"].values)\n",
    "\n",
    "plt.show()"
   ]
  },
  {
   "cell_type": "code",
   "execution_count": 271,
   "metadata": {},
   "outputs": [
    {
     "name": "stdout",
     "output_type": "stream",
     "text": [
      "classification report:K-nearest neighbours\n",
      "              precision    recall  f1-score   support\n",
      "\n",
      "      Adelie       0.65      0.50      0.57        30\n",
      "   Chinstrap       0.64      0.67      0.65        24\n",
      "      Gentoo       0.78      1.00      0.88        21\n",
      "\n",
      "    accuracy                           0.69        75\n",
      "   macro avg       0.69      0.72      0.70        75\n",
      "weighted avg       0.68      0.69      0.68        75\n",
      "\n"
     ]
    }
   ],
   "source": [
    " from sklearn.metrics import classification_report\n",
    "print(\"classification report:K-nearest neighbours\")\n",
    "print(classification_report(y_test,y_pred_KNN))"
   ]
  },
  {
   "cell_type": "markdown",
   "metadata": {},
   "source": [
    "### The classification report of the naive bayes shows an f1 score of about 0.69showing that the predicting efficiency is about 69%\n",
    "\n",
    "### Thus here the k Nearest neighbour algorithm shows the a comparetively poor prediction value"
   ]
  },
  {
   "cell_type": "markdown",
   "metadata": {},
   "source": [
    "### SVM"
   ]
  },
  {
   "cell_type": "code",
   "execution_count": 272,
   "metadata": {},
   "outputs": [
    {
     "data": {
      "text/plain": [
       "array([[ 0, 28,  2],\n",
       "       [ 0, 23,  1],\n",
       "       [ 0,  2, 19]], dtype=int64)"
      ]
     },
     "execution_count": 272,
     "metadata": {},
     "output_type": "execute_result"
    }
   ],
   "source": [
    "from sklearn.svm import SVC\n",
    "model_SVC = SVC()\n",
    "model_SVC.fit(x_train,y_train)\n",
    "\n",
    "y_pred_SVC = model_SVC.predict(x_test)\n",
    "SVM_confusion_matrix=confusion_matrix(y_test,y_pred_SVC)\n",
    "SVM_confusion_matrix"
   ]
  },
  {
   "cell_type": "code",
   "execution_count": 273,
   "metadata": {},
   "outputs": [
    {
     "data": {
      "image/png": "[encoded data removed]",
      "text/plain": [
       "<Figure size 432x288 with 2 Axes>"
      ]
     },
     "metadata": {},
     "output_type": "display_data"
    }
   ],
   "source": [
    "sns.set(color_codes=True)\n",
    "sns.heatmap(SVM_confusion_matrix,cmap=\"Greens\",annot=True,linewidth=0.5,\n",
    "           xticklabels=spec_id_df[\"species\"].values,yticklabels=spec_id_df[\"species\"].values)\n",
    "\n",
    "plt.show()"
   ]
  },
  {
   "cell_type": "code",
   "execution_count": 274,
   "metadata": {},
   "outputs": [
    {
     "name": "stdout",
     "output_type": "stream",
     "text": [
      "classification report:SVC\n",
      "              precision    recall  f1-score   support\n",
      "\n",
      "      Adelie       0.00      0.00      0.00        30\n",
      "   Chinstrap       0.43      0.96      0.60        24\n",
      "      Gentoo       0.86      0.90      0.88        21\n",
      "\n",
      "    accuracy                           0.56        75\n",
      "   macro avg       0.43      0.62      0.49        75\n",
      "weighted avg       0.38      0.56      0.44        75\n",
      "\n"
     ]
    },
    {
     "name": "stderr",
     "output_type": "stream",
     "text": [
      "C:\\ProgramData\\Anaconda3\\lib\\site-packages\\sklearn\\metrics\\_classification.py:1221: UndefinedMetricWarning: Precision and F-score are ill-defined and being set to 0.0 in labels with no predicted samples. Use `zero_division` parameter to control this behavior.\n",
      "  _warn_prf(average, modifier, msg_start, len(result))\n"
     ]
    }
   ],
   "source": [
    "from sklearn.metrics import classification_report\n",
    "print(\"classification report:SVC\")\n",
    "print(classification_report(y_test,y_pred_SVC))"
   ]
  },
  {
   "cell_type": "markdown",
   "metadata": {},
   "source": [
    "### The classification report of the naive bayes shows an f1 score of about 0.56 showing that the predicting efficiency is about 56%"
   ]
  },
  {
   "cell_type": "markdown",
   "metadata": {},
   "source": [
    "### Adilie has 0 and thus there is huge misclassification. if we get the error of misclassification dont use the model. thus for this dataset svm performs worst\n"
   ]
  },
  {
   "cell_type": "markdown",
   "metadata": {},
   "source": [
    "### Random forest"
   ]
  },
  {
   "cell_type": "code",
   "execution_count": 276,
   "metadata": {},
   "outputs": [
    {
     "data": {
      "text/plain": [
       "array([[27,  3,  0],\n",
       "       [ 0, 24,  0],\n",
       "       [ 0,  0, 21]], dtype=int64)"
      ]
     },
     "execution_count": 276,
     "metadata": {},
     "output_type": "execute_result"
    }
   ],
   "source": [
    "from sklearn.ensemble import RandomForestClassifier\n",
    "model_RM = RandomForestClassifier()\n",
    "model_RM.fit(x_train,y_train)\n",
    "\n",
    "y_pred_RM = model_RM.predict(x_test)\n",
    "RM_confusion_matrix=confusion_matrix(y_test,y_pred_RM)\n",
    "RM_confusion_matrix"
   ]
  },
  {
   "cell_type": "code",
   "execution_count": 277,
   "metadata": {},
   "outputs": [
    {
     "data": {
      "image/png": "[encoded data removed]",
      "text/plain": [
       "<Figure size 432x288 with 2 Axes>"
      ]
     },
     "metadata": {},
     "output_type": "display_data"
    }
   ],
   "source": [
    "sns.set(color_codes=True)\n",
    "sns.heatmap(SVM_confusion_matrix,cmap=\"Greens\",annot=True,linewidth=0.5,\n",
    "           xticklabels=spec_id_df[\"species\"].values,yticklabels=spec_id_df[\"species\"].values)\n",
    "\n",
    "plt.show()"
   ]
  },
  {
   "cell_type": "code",
   "execution_count": 278,
   "metadata": {},
   "outputs": [
    {
     "name": "stdout",
     "output_type": "stream",
     "text": [
      "classification report:SVC\n",
      "              precision    recall  f1-score   support\n",
      "\n",
      "      Adelie       1.00      0.90      0.95        30\n",
      "   Chinstrap       0.89      1.00      0.94        24\n",
      "      Gentoo       1.00      1.00      1.00        21\n",
      "\n",
      "    accuracy                           0.96        75\n",
      "   macro avg       0.96      0.97      0.96        75\n",
      "weighted avg       0.96      0.96      0.96        75\n",
      "\n"
     ]
    }
   ],
   "source": [
    "from sklearn.metrics import classification_report\n",
    "print(\"classification report:SVC\")\n",
    "print(classification_report(y_test,y_pred_RM))\n",
    "# very accurate model-- comaparable to the logistic regression--naive bayes"
   ]
  },
  {
   "cell_type": "markdown",
   "metadata": {},
   "source": [
    "### The classification report of the naive bayes shows an f1 score of about 0.96 showing that the predicting efficiency is about 96% --- which is pretty good a prediction and can be compared to the logistic regression model"
   ]
  },
  {
   "cell_type": "markdown",
   "metadata": {},
   "source": [
    "### Model Comparison"
   ]
  },
  {
   "cell_type": "code",
   "execution_count": 279,
   "metadata": {},
   "outputs": [],
   "source": [
    "features=x_train.copy()\n",
    "targets=y_train.copy()"
   ]
  },
  {
   "cell_type": "code",
   "execution_count": 280,
   "metadata": {},
   "outputs": [],
   "source": [
    "models=[MultinomialNB(),SVC(),KNeighborsClassifier(),LogisticRegression(multi_class=\"multinomial\",max_iter=10000),\n",
    "        RandomForestClassifier()]\n",
    "\n",
    "CV=5\n",
    "cv_df=pd.DataFrame(index=range(CV*len(models)))\n",
    "entries=[]\n",
    "\n",
    "for model in models:\n",
    "    model_name=model.__class__.__name__\n",
    "    accuracies=cross_val_score(model,features,targets,scoring=\"accuracy\",cv=CV)\n",
    "    for fold_idx,accuracy in enumerate(accuracies):\n",
    "        entries.append((model_name,fold_idx,accuracy))\n",
    "cv_df=pd.DataFrame(entries,columns=[\"model_name\",'fold_idx',\"accuracy\"])\n",
    "\n"
   ]
  },
  {
   "cell_type": "code",
   "execution_count": 281,
   "metadata": {},
   "outputs": [
    {
     "data": {
      "text/plain": [
       "(array([0.5, 0.6, 0.7, 0.8, 0.9, 1. , 1.1]),\n",
       " [Text(0, 0, ''),\n",
       "  Text(0, 0, ''),\n",
       "  Text(0, 0, ''),\n",
       "  Text(0, 0, ''),\n",
       "  Text(0, 0, ''),\n",
       "  Text(0, 0, ''),\n",
       "  Text(0, 0, '')])"
      ]
     },
     "execution_count": 281,
     "metadata": {},
     "output_type": "execute_result"
    },
    {
     "data": {
      "image/png": "[encoded data removed]",
      "text/plain": [
       "<Figure size 432x288 with 1 Axes>"
      ]
     },
     "metadata": {},
     "output_type": "display_data"
    }
   ],
   "source": [
    "sns.boxplot(x=\"model_name\",y=\"accuracy\",data=cv_df)\n",
    "sns.stripplot(x=\"model_name\",y=\"accuracy\",data=cv_df,size=7,jitter=True,edgecolor=\"green\",linewidth=2)\n",
    "plt.title(\"regression model\",fontsize=20)\n",
    "plt.xlabel(\"models\",fontsize=15)\n",
    "\n",
    "plt.xticks(fontsize=12,rotation='vertical')\n",
    "plt.yticks(fontsize=12,rotation=0)"
   ]
  },
  {
   "cell_type": "markdown",
   "metadata": {},
   "source": [
    "### we can see in the comparitive performance pf the diffreent regression models that the random Logistic regression and RF classifier has clearly out performed the rest of the regression models. It has a higer prediction value that is the accuracy value and it also has the least bias. Thus we can say among the general models tried out the random forest and logisic regression model performs the best"
   ]
  },
  {
   "cell_type": "code",
   "execution_count": 282,
   "metadata": {},
   "outputs": [
    {
     "data": {
      "text/html": [
       "<div>\n",
       "<style scoped>\n",
       "    .dataframe tbody tr th:only-of-type {\n",
       "        vertical-align: middle;\n",
       "    }\n",
       "\n",
       "    .dataframe tbody tr th {\n",
       "        vertical-align: top;\n",
       "    }\n",
       "\n",
       "    .dataframe thead th {\n",
       "        text-align: right;\n",
       "    }\n",
       "</style>\n",
       "<table border=\"1\" class=\"dataframe\">\n",
       "  <thead>\n",
       "    <tr style=\"text-align: right;\">\n",
       "      <th></th>\n",
       "      <th>model_name</th>\n",
       "      <th>accuracy</th>\n",
       "    </tr>\n",
       "  </thead>\n",
       "  <tbody>\n",
       "    <tr>\n",
       "      <th>1</th>\n",
       "      <td>LogisticRegression</td>\n",
       "      <td>0.960000</td>\n",
       "    </tr>\n",
       "    <tr>\n",
       "      <th>3</th>\n",
       "      <td>RandomForestClassifier</td>\n",
       "      <td>0.946667</td>\n",
       "    </tr>\n",
       "    <tr>\n",
       "      <th>2</th>\n",
       "      <td>MultinomialNB</td>\n",
       "      <td>0.826667</td>\n",
       "    </tr>\n",
       "    <tr>\n",
       "      <th>0</th>\n",
       "      <td>KNeighborsClassifier</td>\n",
       "      <td>0.680000</td>\n",
       "    </tr>\n",
       "    <tr>\n",
       "      <th>4</th>\n",
       "      <td>SVC</td>\n",
       "      <td>0.640000</td>\n",
       "    </tr>\n",
       "  </tbody>\n",
       "</table>\n",
       "</div>"
      ],
      "text/plain": [
       "               model_name  accuracy\n",
       "1      LogisticRegression  0.960000\n",
       "3  RandomForestClassifier  0.946667\n",
       "2           MultinomialNB  0.826667\n",
       "0    KNeighborsClassifier  0.680000\n",
       "4                     SVC  0.640000"
      ]
     },
     "execution_count": 282,
     "metadata": {},
     "output_type": "execute_result"
    }
   ],
   "source": [
    "final_comp=cv_df.groupby(\"model_name\").accuracy.mean().reset_index().sort_values(by=\"accuracy\",ascending=False)\n",
    "\n",
    "final_comp"
   ]
  },
  {
   "cell_type": "markdown",
   "metadata": {},
   "source": [
    "### Thus we achieve the highest prediction efficiency of 96% for the logistic regression model"
   ]
  },
  {
   "cell_type": "markdown",
   "metadata": {},
   "source": [
    "##  Model Hypertuning and Optimization"
   ]
  },
  {
   "cell_type": "code",
   "execution_count": 283,
   "metadata": {},
   "outputs": [],
   "source": [
    "regressor=MultinomialNB()\n",
    "#we have finalized the model =RandomForestRegressor as best model\n",
    "#then we run this code--to optimize\n",
    "\n",
    "grid={\"alpha\": [0.1,0.2,0.3,0.4,0.5,0.6,0.7,0.8,0.9,1.0],\n",
    "      \"fit_prior\" :[\"true\",\"false\"]}"
   ]
  },
  {
   "cell_type": "code",
   "execution_count": 284,
   "metadata": {},
   "outputs": [],
   "source": [
    "#time consuming\n",
    "grid_apply=GridSearchCV(regressor,grid,scoring=\"accuracy\",cv=5,refit=True,verbose=0)"
   ]
  },
  {
   "cell_type": "code",
   "execution_count": 285,
   "metadata": {},
   "outputs": [
    {
     "data": {
      "text/plain": [
       "GridSearchCV(cv=5, estimator=MultinomialNB(),\n",
       "             param_grid={'alpha': [0.1, 0.2, 0.3, 0.4, 0.5, 0.6, 0.7, 0.8, 0.9,\n",
       "                                   1.0],\n",
       "                         'fit_prior': ['true', 'false']},\n",
       "             scoring='accuracy')"
      ]
     },
     "execution_count": 285,
     "metadata": {},
     "output_type": "execute_result"
    }
   ],
   "source": [
    "grid_apply.fit(x_train,y_train)"
   ]
  },
  {
   "cell_type": "code",
   "execution_count": 286,
   "metadata": {},
   "outputs": [
    {
     "name": "stdout",
     "output_type": "stream",
     "text": [
      "Best Accuracy= 0.8266666666666665\n",
      " \n",
      "Best model params= MultinomialNB(alpha=0.1, fit_prior='true')\n"
     ]
    }
   ],
   "source": [
    "\n",
    "\n",
    "best_perf=grid_apply.best_score_\n",
    "best_model=grid_apply.best_estimator_\n",
    "\n",
    "print (\"Best Accuracy=\"+\" \"+str(best_perf))\n",
    "print(\" \")\n",
    "print (\"Best model params=\"+\" \"+str(best_model))"
   ]
  },
  {
   "cell_type": "markdown",
   "metadata": {},
   "source": [
    "### The optimization shows that for the multinomial estimator the best accuracy that can be achieved is about 82.6% with the alpha value of 0.1"
   ]
  }
 ],
 "metadata": {
  "kernelspec": {
   "display_name": "Python 3",
   "language": "python",
   "name": "python3"
  },
  "language_info": {
   "codemirror_mode": {
    "name": "ipython",
    "version": 3
   },
   "file_extension": ".py",
   "mimetype": "text/x-python",
   "name": "python",
   "nbconvert_exporter": "python",
   "pygments_lexer": "ipython3",
   "version": "3.8.5"
  }
 },
 "nbformat": 4,
 "nbformat_minor": 4
}
